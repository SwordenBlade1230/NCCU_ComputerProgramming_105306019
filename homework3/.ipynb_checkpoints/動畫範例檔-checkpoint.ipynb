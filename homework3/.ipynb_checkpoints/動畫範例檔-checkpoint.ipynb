{
 "cells": [
  {
   "cell_type": "code",
   "execution_count": 1,
   "metadata": {},
   "outputs": [
    {
     "name": "stdout",
     "output_type": "stream",
     "text": [
      "pygame 1.9.6\n",
      "Hello from the pygame community. https://www.pygame.org/contribute.html\n"
     ]
    },
    {
     "ename": "error",
     "evalue": "display Surface quit",
     "output_type": "error",
     "traceback": [
      "\u001b[1;31m---------------------------------------------------------------------------\u001b[0m",
      "\u001b[1;31merror\u001b[0m                                     Traceback (most recent call last)",
      "\u001b[1;32m<ipython-input-1-c026670a9c54>\u001b[0m in \u001b[0;36m<module>\u001b[1;34m\u001b[0m\n\u001b[0;32m     63\u001b[0m             \u001b[0mexit\u001b[0m\u001b[1;33m(\u001b[0m\u001b[1;33m)\u001b[0m\u001b[1;33m\u001b[0m\u001b[1;33m\u001b[0m\u001b[0m\n\u001b[0;32m     64\u001b[0m \u001b[1;33m\u001b[0m\u001b[0m\n\u001b[1;32m---> 65\u001b[1;33m     \u001b[0mscreen\u001b[0m\u001b[1;33m.\u001b[0m\u001b[0mfill\u001b[0m\u001b[1;33m(\u001b[0m\u001b[1;33m(\u001b[0m\u001b[1;36m0\u001b[0m\u001b[1;33m,\u001b[0m\u001b[1;36m0\u001b[0m\u001b[1;33m,\u001b[0m\u001b[1;36m100\u001b[0m\u001b[1;33m)\u001b[0m\u001b[1;33m)\u001b[0m\u001b[1;33m\u001b[0m\u001b[1;33m\u001b[0m\u001b[0m\n\u001b[0m\u001b[0;32m     66\u001b[0m \u001b[1;33m\u001b[0m\u001b[0m\n\u001b[0;32m     67\u001b[0m     \u001b[0mgroup\u001b[0m\u001b[1;33m.\u001b[0m\u001b[0mupdate\u001b[0m\u001b[1;33m(\u001b[0m\u001b[0mticks\u001b[0m\u001b[1;33m)\u001b[0m\u001b[1;33m\u001b[0m\u001b[1;33m\u001b[0m\u001b[0m\n",
      "\u001b[1;31merror\u001b[0m: display Surface quit"
     ]
    }
   ],
   "source": [
    "import pygame\n",
    "from pygame.locals import *\n",
    "\n",
    "class MySprite(pygame.sprite.Sprite):\n",
    "    def __init__(self, target):\n",
    "        pygame.sprite.Sprite.__init__(self)\n",
    "        self.target_surface = target\n",
    "        self.image = None\n",
    "        self.master_image = None\n",
    "        self.rect = None\n",
    "        self.topleft = 0,0\n",
    "        self.frame = 0\n",
    "        self.old_frame = -1\n",
    "        self.frame_width = 1\n",
    "        self.frame_height = 1\n",
    "        self.first_frame = 0\n",
    "        self.last_frame = 0\n",
    "        self.columns = 1\n",
    "        self.last_time = 0\n",
    "\n",
    "    def load(self, filename, width, height, columns):\n",
    "        self.master_image = pygame.image.load(filename).convert_alpha()\n",
    "        self.frame_width = width\n",
    "        self.frame_height = height\n",
    "        self.rect = 100,100,width,height\n",
    "        self.columns = columns\n",
    "        rect = self.master_image.get_rect()\n",
    "        self.last_frame = (rect.width // width) * (rect.height // height) - 1\n",
    "\n",
    "    def update(self, current_time, rate=60):\n",
    "        if current_time > self.last_time + rate:\n",
    "            self.frame += 1\n",
    "            if self.frame > self.last_frame:\n",
    "                self.frame = self.first_frame\n",
    "            self.last_time = current_time\n",
    "\n",
    "        if self.frame != self.old_frame:\n",
    "            frame_x = (self.frame % self.columns) * self.frame_width\n",
    "            frame_y = (self.frame // self.columns) * self.frame_height\n",
    "            rect = ( frame_x, frame_y, self.frame_width, self.frame_height )\n",
    "            self.image = self.master_image.subsurface(rect)\n",
    "            self.old_frame = self.frame\n",
    "\n",
    "pygame.init()\n",
    "screen = pygame.display.set_mode((800,600),0,32)\n",
    "pygame.display.set_caption(\"測試\")\n",
    "font = pygame.font.Font(None, 18)\n",
    "framerate = pygame.time.Clock()\n",
    "\n",
    "\n",
    "cat = MySprite(screen)\n",
    "cat.load(\"explosion.png\", 192, 192, 5)\n",
    "group = pygame.sprite.Group()\n",
    "group.add(cat)\n",
    "\n",
    "while True:\n",
    "    framerate.tick(30)\n",
    "    ticks = pygame.time.get_ticks()\n",
    "\n",
    "    for event in pygame.event.get():\n",
    "        if event.type == pygame.QUIT:\n",
    "            pygame.quit()\n",
    "            exit()\n",
    "        \n",
    "    screen.fill((0,0,100))\n",
    "\n",
    "    group.update(ticks)\n",
    "    group.draw(screen)\n",
    "    pygame.display.update()"
   ]
  }
 ],
 "metadata": {
  "kernelspec": {
   "display_name": "Python 3",
   "language": "python",
   "name": "python3"
  },
  "language_info": {
   "codemirror_mode": {
    "name": "ipython",
    "version": 3
   },
   "file_extension": ".py",
   "mimetype": "text/x-python",
   "name": "python",
   "nbconvert_exporter": "python",
   "pygments_lexer": "ipython3",
   "version": "3.7.4"
  }
 },
 "nbformat": 4,
 "nbformat_minor": 2
}
