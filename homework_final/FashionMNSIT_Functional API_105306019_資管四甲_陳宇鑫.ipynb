{
 "cells": [
  {
   "cell_type": "code",
   "execution_count": 1,
   "metadata": {},
   "outputs": [],
   "source": [
    "%matplotlib inline\n",
    "\n",
    "import numpy as np\n",
    "import matplotlib.pyplot as plt"
   ]
  },
  {
   "cell_type": "markdown",
   "metadata": {},
   "source": [
    "## 1. 讀入 Fashion MNSIT 數據集"
   ]
  },
  {
   "cell_type": "code",
   "execution_count": 2,
   "metadata": {},
   "outputs": [],
   "source": [
    "from tensorflow.keras.datasets import fashion_mnist"
   ]
  },
  {
   "cell_type": "code",
   "execution_count": 3,
   "metadata": {},
   "outputs": [],
   "source": [
    "(x_train, y_train), (x_test, y_test) = fashion_mnist.load_data()"
   ]
  },
  {
   "cell_type": "markdown",
   "metadata": {},
   "source": [
    "## 2. 欣賞數據集內容"
   ]
  },
  {
   "cell_type": "markdown",
   "metadata": {},
   "source": [
    "**隨機查看訓練集中的五張圖片和其類別**"
   ]
  },
  {
   "cell_type": "code",
   "execution_count": 4,
   "metadata": {},
   "outputs": [],
   "source": [
    "class_names = ['T-shirt/top', 'Trouser', 'Pullover', 'Dress', 'Coat',\n",
    "               'Sandal', 'Shirt', 'Sneaker', 'Bag', 'Ankle boot']"
   ]
  },
  {
   "cell_type": "code",
   "execution_count": 5,
   "metadata": {},
   "outputs": [
    {
     "data": {
      "image/png": "[encoded data removed]",
      "text/plain": [
       "<Figure size 1440x720 with 5 Axes>"
      ]
     },
     "metadata": {},
     "output_type": "display_data"
    }
   ],
   "source": [
    "pick = np.random.choice(60000, 5, replace=False)\n",
    "plt.figure(figsize=(20,10)) # 調整畫布的大小\n",
    "\n",
    "for i in range(5):\n",
    "    n = pick[i]\n",
    "    ax = plt.subplot(151+i)\n",
    "    ax.set_xticks([])\n",
    "    ax.set_yticks([])\n",
    "    ax.set_title(class_names[y_train[n]], fontsize=10)\n",
    "    plt.imshow(x_train[n], cmap='Greys')  "
   ]
  },
  {
   "cell_type": "markdown",
   "metadata": {},
   "source": [
    "## 3. 資料整理"
   ]
  },
  {
   "cell_type": "markdown",
   "metadata": {},
   "source": [
    "**將圖片中的像素正規化 range(0, 255) → range(0, 1)**"
   ]
  },
  {
   "cell_type": "code",
   "execution_count": 6,
   "metadata": {},
   "outputs": [],
   "source": [
    "x_train = x_train / 255\n",
    "x_test = x_test / 255"
   ]
  },
  {
   "cell_type": "markdown",
   "metadata": {},
   "source": [
    "**CNN的輸入資料需要定義channel的數量，由於該資料集的圖片是灰階的，即一個channel(彩色圖片有三個)，因此必須將X的形狀從 (n, 28, 28) 重塑成  \n",
    "(n, 28, 28, 1)，也就是將channel的數量放在X的第四個維度**"
   ]
  },
  {
   "cell_type": "code",
   "execution_count": 7,
   "metadata": {},
   "outputs": [],
   "source": [
    "x_train = x_train.reshape(x_train.shape[0], 28, 28, 1)\n",
    "x_test = x_test.reshape(x_test.shape[0], 28, 28, 1)"
   ]
  },
  {
   "cell_type": "markdown",
   "metadata": {},
   "source": [
    "**對y進行獨熱編碼(one-hot encoding)**"
   ]
  },
  {
   "cell_type": "code",
   "execution_count": 8,
   "metadata": {},
   "outputs": [],
   "source": [
    "from tensorflow.keras.utils import to_categorical\n",
    "y_train = to_categorical(y_train, 10)\n",
    "y_test = to_categorical(y_test, 10)"
   ]
  },
  {
   "cell_type": "markdown",
   "metadata": {},
   "source": [
    "## 4. 打造神經網路"
   ]
  },
  {
   "cell_type": "markdown",
   "metadata": {},
   "source": [
    "### 4-1. 基本模型：Keras官網Mnist的cnn範例\n",
    "參考網址：https://keras.io/examples/mnist_cnn/  \n",
    "備註：原本範例的optimizer是用Adadelta，但後來執行程式發生錯誤，因此改用adam。"
   ]
  },
  {
   "cell_type": "code",
   "execution_count": 9,
   "metadata": {},
   "outputs": [
    {
     "name": "stdout",
     "output_type": "stream",
     "text": [
      "WARNING:tensorflow:From C:\\Users\\kevin\\Anaconda3\\lib\\site-packages\\tensorflow\\python\\ops\\init_ops.py:1251: calling VarianceScaling.__init__ (from tensorflow.python.ops.init_ops) with dtype is deprecated and will be removed in a future version.\n",
      "Instructions for updating:\n",
      "Call initializer instance with the dtype argument instead of passing it to the constructor\n"
     ]
    },
    {
     "name": "stderr",
     "output_type": "stream",
     "text": [
      "Using TensorFlow backend.\n"
     ]
    },
    {
     "name": "stdout",
     "output_type": "stream",
     "text": [
      "Model: \"sequential\"\n",
      "_________________________________________________________________\n",
      "Layer (type)                 Output Shape              Param #   \n",
      "=================================================================\n",
      "conv2d (Conv2D)              (None, 26, 26, 32)        320       \n",
      "_________________________________________________________________\n",
      "conv2d_1 (Conv2D)            (None, 24, 24, 64)        18496     \n",
      "_________________________________________________________________\n",
      "max_pooling2d (MaxPooling2D) (None, 12, 12, 64)        0         \n",
      "_________________________________________________________________\n",
      "dropout (Dropout)            (None, 12, 12, 64)        0         \n",
      "_________________________________________________________________\n",
      "flatten (Flatten)            (None, 9216)              0         \n",
      "_________________________________________________________________\n",
      "dense (Dense)                (None, 128)               1179776   \n",
      "_________________________________________________________________\n",
      "dropout_1 (Dropout)          (None, 128)               0         \n",
      "_________________________________________________________________\n",
      "dense_1 (Dense)              (None, 10)                1290      \n",
      "=================================================================\n",
      "Total params: 1,199,882\n",
      "Trainable params: 1,199,882\n",
      "Non-trainable params: 0\n",
      "_________________________________________________________________\n"
     ]
    }
   ],
   "source": [
    "from tensorflow.keras.models import Sequential\n",
    "from tensorflow.keras.layers import Conv2D, MaxPooling2D, Dropout\n",
    "from tensorflow.keras.layers import Dense, Flatten\n",
    "import keras\n",
    "\n",
    "model = Sequential()\n",
    "model.add(Conv2D(32, kernel_size=(3, 3),\n",
    "                 activation='relu',\n",
    "                 input_shape=(28,28,1)))\n",
    "model.add(Conv2D(64, (3, 3), activation='relu'))\n",
    "model.add(MaxPooling2D(pool_size=(2, 2)))\n",
    "model.add(Dropout(0.25))\n",
    "model.add(Flatten())\n",
    "model.add(Dense(128, activation='relu'))\n",
    "model.add(Dropout(0.5))\n",
    "model.add(Dense(len(class_names), activation='softmax'))\n",
    "\n",
    "model.compile(loss=keras.losses.categorical_crossentropy,\n",
    "              #optimizer=keras.optimizers.Adadelta(),\n",
    "              optimizer='adam',\n",
    "              metrics=['accuracy'])\n",
    "\n",
    "model.summary()"
   ]
  },
  {
   "cell_type": "code",
   "execution_count": 10,
   "metadata": {},
   "outputs": [
    {
     "name": "stdout",
     "output_type": "stream",
     "text": [
      "Train on 60000 samples, validate on 10000 samples\n",
      "Epoch 1/12\n",
      "60000/60000 [==============================] - 34s 563us/sample - loss: 0.5177 - acc: 0.8185 - val_loss: 0.3351 - val_acc: 0.8796\n",
      "Epoch 2/12\n",
      "60000/60000 [==============================] - 32s 528us/sample - loss: 0.3398 - acc: 0.8785 - val_loss: 0.2852 - val_acc: 0.8970\n",
      "Epoch 3/12\n",
      "60000/60000 [==============================] - 32s 532us/sample - loss: 0.2922 - acc: 0.8937 - val_loss: 0.2632 - val_acc: 0.9019\n",
      "Epoch 4/12\n",
      "60000/60000 [==============================] - 37s 620us/sample - loss: 0.2610 - acc: 0.9053 - val_loss: 0.2387 - val_acc: 0.9126\n",
      "Epoch 5/12\n",
      "60000/60000 [==============================] - 37s 612us/sample - loss: 0.2358 - acc: 0.9141 - val_loss: 0.2259 - val_acc: 0.9169\n",
      "Epoch 6/12\n",
      "60000/60000 [==============================] - 41s 676us/sample - loss: 0.2132 - acc: 0.9213 - val_loss: 0.2223 - val_acc: 0.9198\n",
      "Epoch 7/12\n",
      "60000/60000 [==============================] - 37s 612us/sample - loss: 0.1988 - acc: 0.9271 - val_loss: 0.2135 - val_acc: 0.9213\n",
      "Epoch 8/12\n",
      "60000/60000 [==============================] - 37s 625us/sample - loss: 0.1817 - acc: 0.9334 - val_loss: 0.2062 - val_acc: 0.9248\n",
      "Epoch 9/12\n",
      "60000/60000 [==============================] - 37s 620us/sample - loss: 0.1714 - acc: 0.9365 - val_loss: 0.2134 - val_acc: 0.9239\n",
      "Epoch 10/12\n",
      "60000/60000 [==============================] - 37s 615us/sample - loss: 0.1609 - acc: 0.9399 - val_loss: 0.2218 - val_acc: 0.9212\n",
      "Epoch 11/12\n",
      "60000/60000 [==============================] - 36s 603us/sample - loss: 0.1502 - acc: 0.9434 - val_loss: 0.2111 - val_acc: 0.9310\n",
      "Epoch 12/12\n",
      "60000/60000 [==============================] - 36s 601us/sample - loss: 0.1404 - acc: 0.9469 - val_loss: 0.2170 - val_acc: 0.9275\n",
      "Test loss: 0.21695924699902536\n",
      "Test accuracy: 0.9275\n"
     ]
    }
   ],
   "source": [
    "model.fit(x_train, y_train,\n",
    "          batch_size=128,\n",
    "          epochs=12,\n",
    "          verbose=1,\n",
    "          validation_data=(x_test, y_test))\n",
    "score = model.evaluate(x_test, y_test, verbose=0)\n",
    "print('Test loss:', score[0])\n",
    "print('Test accuracy:', score[1])"
   ]
  },
  {
   "cell_type": "markdown",
   "metadata": {},
   "source": [
    "### 4-2. 使用Functional API實作的模型"
   ]
  },
  {
   "cell_type": "markdown",
   "metadata": {},
   "source": [
    "以下為我設計的模型架構，由於透過Functional API可以使訓練的過程分歧之後再合併，因此訓練的過程中，**卷積層我一邊使用relu作為激活函數(branch1)，另一邊則使用sigmoid(branch2)**，再將兩邊的結果合併起來之後做maxpooling。另外，我用**平均最大池化層(average pooling layer)**取代扁平層(flatten layer)，減少模型的訓練參數，讓模型的訓練過程更有效率。\n",
    "\n",
    "備註：模型架構圖的畫法有附在該程式最下方「補充：模型視覺化」的地方\n",
    "\n",
    "<img src=\"model_structure_1.png\" height=\"50%\" width=\"50%\">"
   ]
  },
  {
   "cell_type": "code",
   "execution_count": 10,
   "metadata": {},
   "outputs": [
    {
     "name": "stdout",
     "output_type": "stream",
     "text": [
      "Model: \"model\"\n",
      "__________________________________________________________________________________________________\n",
      "Layer (type)                    Output Shape         Param #     Connected to                     \n",
      "==================================================================================================\n",
      "iamge_input (InputLayer)        [(None, 28, 28, 1)]  0                                            \n",
      "__________________________________________________________________________________________________\n",
      "block1_branch1_conv1 (Conv2D)   (None, 28, 28, 32)   320         iamge_input[0][0]                \n",
      "__________________________________________________________________________________________________\n",
      "block1_branch2_conv1 (Conv2D)   (None, 28, 28, 32)   320         iamge_input[0][0]                \n",
      "__________________________________________________________________________________________________\n",
      "block1_branch1_conv2 (Conv2D)   (None, 28, 28, 32)   9248        block1_branch1_conv1[0][0]       \n",
      "__________________________________________________________________________________________________\n",
      "block1_branch2_conv2 (Conv2D)   (None, 28, 28, 32)   9248        block1_branch2_conv1[0][0]       \n",
      "__________________________________________________________________________________________________\n",
      "block1_concatenate (Concatenate (None, 28, 28, 64)   0           block1_branch1_conv2[0][0]       \n",
      "                                                                 block1_branch2_conv2[0][0]       \n",
      "__________________________________________________________________________________________________\n",
      "block1_MaxPooling2D (MaxPooling (None, 14, 14, 64)   0           block1_concatenate[0][0]         \n",
      "__________________________________________________________________________________________________\n",
      "block2_branch1_conv1 (Conv2D)   (None, 14, 14, 64)   36928       block1_MaxPooling2D[0][0]        \n",
      "__________________________________________________________________________________________________\n",
      "block2_branch2_conv1 (Conv2D)   (None, 14, 14, 64)   36928       block1_MaxPooling2D[0][0]        \n",
      "__________________________________________________________________________________________________\n",
      "block2_branch1_conv2 (Conv2D)   (None, 14, 14, 64)   36928       block2_branch1_conv1[0][0]       \n",
      "__________________________________________________________________________________________________\n",
      "block2_branch2_conv2 (Conv2D)   (None, 14, 14, 64)   36928       block2_branch2_conv1[0][0]       \n",
      "__________________________________________________________________________________________________\n",
      "block2_concatenate (Concatenate (None, 14, 14, 128)  0           block2_branch1_conv2[0][0]       \n",
      "                                                                 block2_branch2_conv2[0][0]       \n",
      "__________________________________________________________________________________________________\n",
      "block2_GlobalAveragePooling2D ( (None, 128)          0           block2_concatenate[0][0]         \n",
      "__________________________________________________________________________________________________\n",
      "dense (Dense)                   (None, 10)           1290        block2_GlobalAveragePooling2D[0][\n",
      "==================================================================================================\n",
      "Total params: 168,138\n",
      "Trainable params: 168,138\n",
      "Non-trainable params: 0\n",
      "__________________________________________________________________________________________________\n"
     ]
    }
   ],
   "source": [
    "from tensorflow.keras.layers import GlobalAveragePooling2D \n",
    "from tensorflow.keras.models import Model\n",
    "from tensorflow.keras.layers import Input\n",
    "from tensorflow.keras.layers import concatenate, add\n",
    "\n",
    "keras.backend.clear_session() # 清除之前的模型\n",
    "\n",
    "img_input = Input(shape=(28,28,1), name='iamge_input')\n",
    "\n",
    "### convolutional block 1 ###\n",
    "branch1 = Conv2D(32, (3, 3), padding='same', activation='relu', name='block1_branch1_conv1')(img_input)\n",
    "branch1 = Conv2D(32, (3, 3), padding='same', activation='relu', name='block1_branch1_conv2')(branch1)\n",
    "\n",
    "branch2 = Conv2D(32, (3, 3), padding='same', activation='sigmoid', name='block1_branch2_conv1')(img_input)\n",
    "branch2 = Conv2D(32, (3, 3), padding='same', activation='sigmoid', name='block1_branch2_conv2')(branch2)\n",
    "\n",
    "out = concatenate([branch1, branch2], name='block1_concatenate')\n",
    "\n",
    "out = MaxPooling2D(pool_size=(2, 2), name='block1_MaxPooling2D')(out)\n",
    "\n",
    "### convolutional block 2 ###\n",
    "branch1 = Conv2D(64, (3, 3), padding='same', activation='relu', name='block2_branch1_conv1')(out)\n",
    "branch1 = Conv2D(64, (3, 3), padding='same', activation='relu', name='block2_branch1_conv2')(branch1)\n",
    "\n",
    "branch2 = Conv2D(64, (3, 3), padding='same', activation='sigmoid', name='block2_branch2_conv1')(out)\n",
    "branch2 = Conv2D(64, (3, 3), padding='same', activation='sigmoid', name='block2_branch2_conv2')(branch2)\n",
    "\n",
    "out = concatenate([branch1, branch2], name='block2_concatenate')\n",
    "\n",
    "out = GlobalAveragePooling2D(name='block2_GlobalAveragePooling2D')(out)\n",
    "\n",
    "### fully-connected layer as a classfier ###\n",
    "out = Dense(10, activation='softmax')(out)\n",
    "\n",
    "model = Model(img_input, out)\n",
    "model.summary()"
   ]
  },
  {
   "cell_type": "code",
   "execution_count": 11,
   "metadata": {},
   "outputs": [
    {
     "name": "stdout",
     "output_type": "stream",
     "text": [
      "Train on 60000 samples, validate on 10000 samples\n",
      "Epoch 1/12\n",
      "60000/60000 [==============================] - 79s 1ms/sample - loss: 1.0157 - acc: 0.6253 - val_loss: 0.6613 - val_acc: 0.7644\n",
      "Epoch 2/12\n",
      "60000/60000 [==============================] - 75s 1ms/sample - loss: 0.5887 - acc: 0.7873 - val_loss: 0.5617 - val_acc: 0.8045\n",
      "Epoch 3/12\n",
      "60000/60000 [==============================] - 75s 1ms/sample - loss: 0.5019 - acc: 0.8201 - val_loss: 0.4979 - val_acc: 0.8256\n",
      "Epoch 4/12\n",
      "60000/60000 [==============================] - 75s 1ms/sample - loss: 0.4554 - acc: 0.8383 - val_loss: 0.4497 - val_acc: 0.8419\n",
      "Epoch 5/12\n",
      "60000/60000 [==============================] - 75s 1ms/sample - loss: 0.4170 - acc: 0.8532 - val_loss: 0.4204 - val_acc: 0.8513\n",
      "Epoch 6/12\n",
      "60000/60000 [==============================] - 75s 1ms/sample - loss: 0.3882 - acc: 0.8620 - val_loss: 0.3970 - val_acc: 0.8627\n",
      "Epoch 7/12\n",
      "60000/60000 [==============================] - 75s 1ms/sample - loss: 0.3672 - acc: 0.8703 - val_loss: 0.3786 - val_acc: 0.8683\n",
      "Epoch 8/12\n",
      "60000/60000 [==============================] - 75s 1ms/sample - loss: 0.3496 - acc: 0.8752 - val_loss: 0.3722 - val_acc: 0.8716\n",
      "Epoch 9/12\n",
      "60000/60000 [==============================] - 75s 1ms/sample - loss: 0.3334 - acc: 0.8805 - val_loss: 0.3581 - val_acc: 0.8718\n",
      "Epoch 10/12\n",
      "60000/60000 [==============================] - 75s 1ms/sample - loss: 0.3230 - acc: 0.8846 - val_loss: 0.3737 - val_acc: 0.8678\n",
      "Epoch 11/12\n",
      "60000/60000 [==============================] - 76s 1ms/sample - loss: 0.3093 - acc: 0.8899 - val_loss: 0.3306 - val_acc: 0.8838\n",
      "Epoch 12/12\n",
      "60000/60000 [==============================] - 75s 1ms/sample - loss: 0.3027 - acc: 0.8912 - val_loss: 0.3337 - val_acc: 0.8843\n",
      "Test loss: 0.33369150480031967\n",
      "Test accuracy: 0.8843\n"
     ]
    }
   ],
   "source": [
    "model.compile(loss=keras.losses.categorical_crossentropy,\n",
    "              #optimizer=keras.optimizers.Adadelta(),\n",
    "              optimizer='adam',\n",
    "              metrics=['accuracy'])\n",
    "\n",
    "model.fit(x_train, y_train,\n",
    "          batch_size=128,\n",
    "          epochs=12,\n",
    "          verbose=1,\n",
    "          validation_data=(x_test, y_test))\n",
    "score = model.evaluate(x_test, y_test, verbose=0)\n",
    "print('Test loss:', score[0])\n",
    "print('Test accuracy:', score[1])"
   ]
  },
  {
   "cell_type": "markdown",
   "metadata": {},
   "source": [
    "根據模型的預測結果，目前我的模型架構在測試集的表現上沒有贏過基本模型(88.43% < 92.75%)，至於在模型訓練的過程中「同時使用不同的激活函數分批下去訓練，再將輸出結果合併」是否能夠提升模型的預測能力，由於現在還沒有經過一個嚴謹，而且完整的比較機制，所以暫時沒有辦法做出結論，不過現階段我只是想要是熟悉Functional API的用法，畢竟透過Functional API可以跳脫過去只能以「線性」的方式建模的框架，使模型的架構可以更加多元化，而未來我將會嘗試更多非線性的模型架構。"
   ]
  },
  {
   "cell_type": "markdown",
   "metadata": {},
   "source": [
    "## 補充：模型視覺化"
   ]
  },
  {
   "cell_type": "markdown",
   "metadata": {},
   "source": [
    "透過**tensorflow.keras.utils.plot_model**這個method可以將模型的架構畫出來，不過即使我安裝了pydot和graphviz這兩個必要的套件，本地端卻還是一直執行失敗(如下面的輸出結果，明明安裝這兩個套件了，卻還是說我沒安裝...)，似乎還有許多麻煩的議題需要解決，因此之後我是將程式碼放到Colab上運行才能成功畫出模型的架構圖。"
   ]
  },
  {
   "cell_type": "code",
   "execution_count": 12,
   "metadata": {},
   "outputs": [
    {
     "name": "stdout",
     "output_type": "stream",
     "text": [
      "Requirement already satisfied: pydot in c:\\users\\kevin\\anaconda3\\lib\\site-packages (1.4.1)\n",
      "Requirement already satisfied: pyparsing>=2.1.4 in c:\\users\\kevin\\anaconda3\\lib\\site-packages (from pydot) (2.4.2)\n",
      "Requirement already satisfied: graphviz in c:\\users\\kevin\\anaconda3\\lib\\site-packages (0.14)\n"
     ]
    }
   ],
   "source": [
    "# !pip install pydot \n",
    "# !pip install graphviz"
   ]
  },
  {
   "cell_type": "code",
   "execution_count": 13,
   "metadata": {},
   "outputs": [
    {
     "name": "stdout",
     "output_type": "stream",
     "text": [
      "Failed to import pydot. You must install pydot and graphviz for `pydotprint` to work.\n"
     ]
    }
   ],
   "source": [
    "from tensorflow.keras.utils import plot_model\n",
    "plot_model(model)"
   ]
  }
 ],
 "metadata": {
  "kernelspec": {
   "display_name": "Python 3",
   "language": "python",
   "name": "python3"
  },
  "language_info": {
   "codemirror_mode": {
    "name": "ipython",
    "version": 3
   },
   "file_extension": ".py",
   "mimetype": "text/x-python",
   "name": "python",
   "nbconvert_exporter": "python",
   "pygments_lexer": "ipython3",
   "version": "3.7.4"
  }
 },
 "nbformat": 4,
 "nbformat_minor": 2
}
