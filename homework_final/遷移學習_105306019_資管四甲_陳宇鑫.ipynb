{
 "cells": [
  {
   "cell_type": "markdown",
   "metadata": {},
   "source": [
    "**遷移學習：將A數據集訓練的神經網路，換用到B數據集上，而B數據集的神經網路「不可以」完全重新訓練。**\n",
    "\n",
    "這裡我使用以下兩個tensorflow.keras.datasets經典的資料集來實作遷移學習：\n",
    "* A數據集：cifar10\n",
    "* B數據集：cifar100"
   ]
  },
  {
   "cell_type": "markdown",
   "metadata": {},
   "source": [
    " ## 1. 載入套件及資料集"
   ]
  },
  {
   "cell_type": "code",
   "execution_count": 1,
   "metadata": {},
   "outputs": [],
   "source": [
    "# Import some useful packages\n",
    "import matplotlib.pyplot as plt\n",
    "import numpy as np\n",
    "\n",
    "# Layers for FNN\n",
    "from tensorflow.keras.models import Sequential\n",
    "from tensorflow.keras.layers import Dense\n",
    "from tensorflow.keras.layers import Flatten\n",
    "\n",
    "# Layers for CNN\n",
    "from tensorflow.keras.layers import Conv2D, MaxPool2D, GlobalAveragePooling2D\n",
    "\n",
    "from tensorflow.keras.optimizers import SGD, Adam\n",
    "\n",
    "# For data preprocessing\n",
    "from tensorflow.keras import datasets\n",
    "from tensorflow.keras.utils import to_categorical"
   ]
  },
  {
   "cell_type": "markdown",
   "metadata": {},
   "source": [
    "## 2. 資料前處理"
   ]
  },
  {
   "cell_type": "markdown",
   "metadata": {},
   "source": [
    "**讀取 CIFAR 10 資料集**"
   ]
  },
  {
   "cell_type": "code",
   "execution_count": 2,
   "metadata": {},
   "outputs": [],
   "source": [
    "name_list = ['airplane', 'automobile', 'bird', 'cat', 'deer', 'dog', 'frog', 'horse', 'ship', 'truck']"
   ]
  },
  {
   "cell_type": "code",
   "execution_count": 3,
   "metadata": {},
   "outputs": [],
   "source": [
    "# Load CIFAR 10\n",
    "(X_train, y_train0), (X_test, y_test0) = datasets.cifar10.load_data()\n",
    "\n",
    "# Normalize the range of featurs\n",
    "X_train = X_train / X_train.max()\n",
    "X_test = X_test / X_test.max()\n",
    "\n",
    "# One-hot encoding\n",
    "y_train = to_categorical(y_train0, 10)\n",
    "y_test = to_categorical(y_test0, 10)"
   ]
  },
  {
   "cell_type": "markdown",
   "metadata": {},
   "source": [
    "**查看資料集中隨機一張照片**"
   ]
  },
  {
   "cell_type": "code",
   "execution_count": 4,
   "metadata": {},
   "outputs": [
    {
     "data": {
      "image/png": "[encoded data removed]",
      "text/plain": [
       "<Figure size 432x288 with 1 Axes>"
      ]
     },
     "metadata": {
      "needs_background": "light"
     },
     "output_type": "display_data"
    }
   ],
   "source": [
    "idx = np.random.randint(X_train.shape[0])\n",
    "X_sample = X_train[idx]\n",
    "y_sample = y_train0[idx].squeeze()\n",
    "\n",
    "plt.imshow(X_sample)\n",
    "plt.title(name_list[y_sample])\n",
    "plt.axis('off');"
   ]
  },
  {
   "cell_type": "markdown",
   "metadata": {},
   "source": [
    "## 3. 建立用於分類 CIFAR 10 的卷積神經網路"
   ]
  },
  {
   "cell_type": "markdown",
   "metadata": {},
   "source": [
    "**打造神經網路**"
   ]
  },
  {
   "cell_type": "markdown",
   "metadata": {},
   "source": [
    "這裡我使用Sequential另一種建立模型的方式(不用model.add)來打造神經網路，並且將CNN layers的部分拆開成兩個block(之後會有特殊用途)，從頭開始訓練一個用於分類 CIFAR 10 的卷積神經網路。"
   ]
  },
  {
   "cell_type": "code",
   "execution_count": 5,
   "metadata": {},
   "outputs": [
    {
     "name": "stdout",
     "output_type": "stream",
     "text": [
      "WARNING:tensorflow:From C:\\Users\\kevin\\Anaconda3\\lib\\site-packages\\tensorflow\\python\\ops\\init_ops.py:1251: calling VarianceScaling.__init__ (from tensorflow.python.ops.init_ops) with dtype is deprecated and will be removed in a future version.\n",
      "Instructions for updating:\n",
      "Call initializer instance with the dtype argument instead of passing it to the constructor\n"
     ]
    }
   ],
   "source": [
    "CNN_layers_block1 = [\n",
    "    Conv2D(32, (3, 3), input_shape=(32, 32, 3), padding='same', activation='relu', name='block1_Conv_1'),\n",
    "    MaxPool2D(),\n",
    "    Conv2D(64, (3, 3), padding='same', activation='relu', name='block1_Conv_2'),\n",
    "    MaxPool2D()]\n",
    "\n",
    "CNN_layers_block2 = [\n",
    "    Conv2D(128, (3, 3), input_shape=(32, 32, 3), padding='same', activation='relu', name='block2_Conv_1'),\n",
    "    MaxPool2D(),\n",
    "    Conv2D(256, (3, 3), padding='same', activation='relu', name='block2_Conv_2'), \n",
    "    GlobalAveragePooling2D()]\n",
    "\n",
    "FC_layers = [Dense(units=128, activation='relu'),\n",
    "             Dense(units=10, activation='softmax')]\n",
    "\n",
    "model = Sequential(CNN_layers_block1+CNN_layers_block2+FC_layers)"
   ]
  },
  {
   "cell_type": "markdown",
   "metadata": {},
   "source": [
    "**查看模型架構**"
   ]
  },
  {
   "cell_type": "code",
   "execution_count": 6,
   "metadata": {},
   "outputs": [
    {
     "name": "stdout",
     "output_type": "stream",
     "text": [
      "Model: \"sequential\"\n",
      "_________________________________________________________________\n",
      "Layer (type)                 Output Shape              Param #   \n",
      "=================================================================\n",
      "block1_Conv_1 (Conv2D)       (None, 32, 32, 32)        896       \n",
      "_________________________________________________________________\n",
      "max_pooling2d (MaxPooling2D) (None, 16, 16, 32)        0         \n",
      "_________________________________________________________________\n",
      "block1_Conv_2 (Conv2D)       (None, 16, 16, 64)        18496     \n",
      "_________________________________________________________________\n",
      "max_pooling2d_1 (MaxPooling2 (None, 8, 8, 64)          0         \n",
      "_________________________________________________________________\n",
      "block2_Conv_1 (Conv2D)       (None, 8, 8, 128)         73856     \n",
      "_________________________________________________________________\n",
      "max_pooling2d_2 (MaxPooling2 (None, 4, 4, 128)         0         \n",
      "_________________________________________________________________\n",
      "block2_Conv_2 (Conv2D)       (None, 4, 4, 256)         295168    \n",
      "_________________________________________________________________\n",
      "global_average_pooling2d (Gl (None, 256)               0         \n",
      "_________________________________________________________________\n",
      "dense (Dense)                (None, 128)               32896     \n",
      "_________________________________________________________________\n",
      "dense_1 (Dense)              (None, 10)                1290      \n",
      "=================================================================\n",
      "Total params: 422,602\n",
      "Trainable params: 422,602\n",
      "Non-trainable params: 0\n",
      "_________________________________________________________________\n"
     ]
    }
   ],
   "source": [
    "model.summary()"
   ]
  },
  {
   "cell_type": "markdown",
   "metadata": {},
   "source": [
    "**編譯模型**"
   ]
  },
  {
   "cell_type": "code",
   "execution_count": 7,
   "metadata": {},
   "outputs": [],
   "source": [
    "model.compile(loss='categorical_crossentropy', \n",
    "              optimizer=Adam(),\n",
    "              metrics=['categorical_accuracy'])"
   ]
  },
  {
   "cell_type": "markdown",
   "metadata": {},
   "source": [
    "**訓練模型**"
   ]
  },
  {
   "cell_type": "code",
   "execution_count": 8,
   "metadata": {},
   "outputs": [
    {
     "name": "stdout",
     "output_type": "stream",
     "text": [
      "Train on 50000 samples, validate on 10000 samples\n",
      "Epoch 1/10\n",
      "50000/50000 [==============================] - 36s 730us/sample - loss: 1.6982 - categorical_accuracy: 0.3585 - val_loss: 1.4139 - val_categorical_accuracy: 0.4721\n",
      "Epoch 2/10\n",
      "50000/50000 [==============================] - 34s 687us/sample - loss: 1.3347 - categorical_accuracy: 0.5086 - val_loss: 1.2245 - val_categorical_accuracy: 0.5586\n",
      "Epoch 3/10\n",
      "50000/50000 [==============================] - 34s 676us/sample - loss: 1.1633 - categorical_accuracy: 0.5803 - val_loss: 1.0713 - val_categorical_accuracy: 0.6137\n",
      "Epoch 4/10\n",
      "50000/50000 [==============================] - 34s 677us/sample - loss: 1.0400 - categorical_accuracy: 0.6278 - val_loss: 1.0249 - val_categorical_accuracy: 0.6283\n",
      "Epoch 5/10\n",
      "50000/50000 [==============================] - 41s 820us/sample - loss: 0.9521 - categorical_accuracy: 0.6603 - val_loss: 0.9459 - val_categorical_accuracy: 0.6621\n",
      "Epoch 6/10\n",
      "50000/50000 [==============================] - 35s 709us/sample - loss: 0.8716 - categorical_accuracy: 0.6899 - val_loss: 0.9453 - val_categorical_accuracy: 0.6619\n",
      "Epoch 7/10\n",
      "50000/50000 [==============================] - 40s 801us/sample - loss: 0.8019 - categorical_accuracy: 0.7161 - val_loss: 0.8874 - val_categorical_accuracy: 0.6932\n",
      "Epoch 8/10\n",
      "50000/50000 [==============================] - 40s 793us/sample - loss: 0.7440 - categorical_accuracy: 0.7377 - val_loss: 0.7780 - val_categorical_accuracy: 0.7264\n",
      "Epoch 9/10\n",
      "50000/50000 [==============================] - 36s 723us/sample - loss: 0.6931 - categorical_accuracy: 0.7566 - val_loss: 0.7777 - val_categorical_accuracy: 0.7278\n",
      "Epoch 10/10\n",
      "50000/50000 [==============================] - 36s 711us/sample - loss: 0.6423 - categorical_accuracy: 0.7747 - val_loss: 0.7484 - val_categorical_accuracy: 0.7453\n"
     ]
    },
    {
     "data": {
      "text/plain": [
       "<tensorflow.python.keras.callbacks.History at 0x1669af41f48>"
      ]
     },
     "execution_count": 8,
     "metadata": {},
     "output_type": "execute_result"
    }
   ],
   "source": [
    "model.fit(X_train, y_train, \n",
    "          batch_size=128, \n",
    "          epochs=10,\n",
    "          validation_data=(X_test, y_test))"
   ]
  },
  {
   "cell_type": "markdown",
   "metadata": {},
   "source": [
    "**查看 model 預測 CIFAR 10 的結果**"
   ]
  },
  {
   "cell_type": "code",
   "execution_count": 9,
   "metadata": {},
   "outputs": [
    {
     "name": "stdout",
     "output_type": "stream",
     "text": [
      "50000/50000 [==============================] - 13s 257us/sample - loss: 0.5866 - categorical_accuracy: 0.7943\n",
      "10000/10000 [==============================] - 3s 314us/sample - loss: 0.7484 - categorical_accuracy: 0.7453\n",
      "Train Accuracy: 79.4260025024414\n",
      "Test Accuracy: 74.52999949455261\n"
     ]
    }
   ],
   "source": [
    "score_train = model.evaluate(X_train, y_train, batch_size=1024)\n",
    "score_test = model.evaluate(X_test, y_test, batch_size=1024)\n",
    "\n",
    "print(f'Train Accuracy: {score_train[1]*100}')\n",
    "print(f'Test Accuracy: {score_test[1]*100}')"
   ]
  },
  {
   "cell_type": "markdown",
   "metadata": {},
   "source": [
    "**保存模型**"
   ]
  },
  {
   "cell_type": "code",
   "execution_count": 10,
   "metadata": {},
   "outputs": [],
   "source": [
    "model.save('CIFAR10_CNN.h5')  "
   ]
  },
  {
   "cell_type": "markdown",
   "metadata": {},
   "source": [
    "## 4. 透過遷移學習的方式建立用於分類 CIFAR 100 的卷積神經網路"
   ]
  },
  {
   "cell_type": "markdown",
   "metadata": {},
   "source": [
    "**讀取 CIFAR 100 資料集，並進行資料前處理**"
   ]
  },
  {
   "cell_type": "code",
   "execution_count": 11,
   "metadata": {},
   "outputs": [
    {
     "name": "stdout",
     "output_type": "stream",
     "text": [
      "Downloading data from https://www.cs.toronto.edu/~kriz/cifar-100-python.tar.gz\n",
      "169009152/169001437 [==============================] - 100s 1us/step\n"
     ]
    }
   ],
   "source": [
    "# Load CIFAR 100\n",
    "(U_train, v_train0), (U_test, v_test0) = datasets.cifar100.load_data()\n",
    "\n",
    "# Normalize the range of featurs\n",
    "U_train = U_train / U_train.max()\n",
    "U_test = U_test / U_test.max()\n",
    "\n",
    "# One-hot encoding\n",
    "v_train = to_categorical(v_train0, 100)\n",
    "v_test = to_categorical(v_test0, 100)"
   ]
  },
  {
   "cell_type": "markdown",
   "metadata": {},
   "source": [
    "**打造神經網路**"
   ]
  },
  {
   "cell_type": "markdown",
   "metadata": {},
   "source": [
    "這裡我用和第一個模型(model)相同的CNN layers建立一個用於分類 CIFAR 100 的卷積神經網路(model_CF100)，但是凍結(Frozen)剛剛model中第一個CNN block訓練好的參數，而全連結層的部分則換成層數更多的版本。"
   ]
  },
  {
   "cell_type": "code",
   "execution_count": 13,
   "metadata": {},
   "outputs": [],
   "source": [
    "for layer in CNN_layers_block1:\n",
    "    layer.trainable = False"
   ]
  },
  {
   "cell_type": "code",
   "execution_count": 14,
   "metadata": {},
   "outputs": [],
   "source": [
    "FC_layers_CF100 = [Dense(units=128, activation='relu'),\n",
    "                   Dense(units=128, activation='relu'),\n",
    "                   Dense(units=100, activation='softmax')]\n",
    "\n",
    "model_CF100 = Sequential(CNN_layers_block1+CNN_layers_block2+FC_layers_CF100)"
   ]
  },
  {
   "cell_type": "markdown",
   "metadata": {},
   "source": [
    "**查看模型架構**"
   ]
  },
  {
   "cell_type": "code",
   "execution_count": 15,
   "metadata": {},
   "outputs": [
    {
     "name": "stdout",
     "output_type": "stream",
     "text": [
      "Model: \"sequential_1\"\n",
      "_________________________________________________________________\n",
      "Layer (type)                 Output Shape              Param #   \n",
      "=================================================================\n",
      "block1_Conv_1 (Conv2D)       (None, 32, 32, 32)        896       \n",
      "_________________________________________________________________\n",
      "max_pooling2d (MaxPooling2D) (None, 16, 16, 32)        0         \n",
      "_________________________________________________________________\n",
      "block1_Conv_2 (Conv2D)       (None, 16, 16, 64)        18496     \n",
      "_________________________________________________________________\n",
      "max_pooling2d_1 (MaxPooling2 (None, 8, 8, 64)          0         \n",
      "_________________________________________________________________\n",
      "block2_Conv_1 (Conv2D)       (None, 8, 8, 128)         73856     \n",
      "_________________________________________________________________\n",
      "max_pooling2d_2 (MaxPooling2 (None, 4, 4, 128)         0         \n",
      "_________________________________________________________________\n",
      "block2_Conv_2 (Conv2D)       (None, 4, 4, 256)         295168    \n",
      "_________________________________________________________________\n",
      "global_average_pooling2d (Gl (None, 256)               0         \n",
      "_________________________________________________________________\n",
      "dense_2 (Dense)              (None, 128)               32896     \n",
      "_________________________________________________________________\n",
      "dense_3 (Dense)              (None, 128)               16512     \n",
      "_________________________________________________________________\n",
      "dense_4 (Dense)              (None, 100)               12900     \n",
      "=================================================================\n",
      "Total params: 450,724\n",
      "Trainable params: 431,332\n",
      "Non-trainable params: 19,392\n",
      "_________________________________________________________________\n"
     ]
    }
   ],
   "source": [
    "model_CF100.summary()"
   ]
  },
  {
   "cell_type": "markdown",
   "metadata": {},
   "source": [
    "由於我凍結了剛剛model中第一個CNN block訓練好的參數，因此出現19,392個「Non-trainable parameters」。"
   ]
  },
  {
   "cell_type": "markdown",
   "metadata": {},
   "source": [
    "**編譯模型**"
   ]
  },
  {
   "cell_type": "code",
   "execution_count": 16,
   "metadata": {},
   "outputs": [],
   "source": [
    "model_CF100.compile(loss='categorical_crossentropy', \n",
    "                    optimizer=Adam(),\n",
    "                    metrics=['categorical_accuracy'])"
   ]
  },
  {
   "cell_type": "markdown",
   "metadata": {},
   "source": [
    "**訓練模型**"
   ]
  },
  {
   "cell_type": "code",
   "execution_count": 17,
   "metadata": {},
   "outputs": [
    {
     "name": "stdout",
     "output_type": "stream",
     "text": [
      "Train on 50000 samples, validate on 10000 samples\n",
      "Epoch 1/10\n",
      "50000/50000 [==============================] - 21s 426us/sample - loss: 3.3658 - categorical_accuracy: 0.1835 - val_loss: 2.8549 - val_categorical_accuracy: 0.2753\n",
      "Epoch 2/10\n",
      "50000/50000 [==============================] - 22s 447us/sample - loss: 2.7113 - categorical_accuracy: 0.3027 - val_loss: 2.5890 - val_categorical_accuracy: 0.3337\n",
      "Epoch 3/10\n",
      "50000/50000 [==============================] - 26s 524us/sample - loss: 2.4866 - categorical_accuracy: 0.3498 - val_loss: 2.4643 - val_categorical_accuracy: 0.3629\n",
      "Epoch 4/10\n",
      "50000/50000 [==============================] - 27s 537us/sample - loss: 2.3305 - categorical_accuracy: 0.3848 - val_loss: 2.3638 - val_categorical_accuracy: 0.3778\n",
      "Epoch 5/10\n",
      "50000/50000 [==============================] - 26s 524us/sample - loss: 2.2048 - categorical_accuracy: 0.4107 - val_loss: 2.3129 - val_categorical_accuracy: 0.3926\n",
      "Epoch 6/10\n",
      "50000/50000 [==============================] - 28s 566us/sample - loss: 2.1028 - categorical_accuracy: 0.4360 - val_loss: 2.2023 - val_categorical_accuracy: 0.4194\n",
      "Epoch 7/10\n",
      "50000/50000 [==============================] - 25s 506us/sample - loss: 2.0126 - categorical_accuracy: 0.4549 - val_loss: 2.1731 - val_categorical_accuracy: 0.4274\n",
      "Epoch 8/10\n",
      "50000/50000 [==============================] - 26s 529us/sample - loss: 1.9345 - categorical_accuracy: 0.4715 - val_loss: 2.2133 - val_categorical_accuracy: 0.4222\n",
      "Epoch 9/10\n",
      "50000/50000 [==============================] - 28s 566us/sample - loss: 1.8627 - categorical_accuracy: 0.4904 - val_loss: 2.1456 - val_categorical_accuracy: 0.4307\n",
      "Epoch 10/10\n",
      "50000/50000 [==============================] - 25s 507us/sample - loss: 1.7878 - categorical_accuracy: 0.5062 - val_loss: 2.0853 - val_categorical_accuracy: 0.4507\n"
     ]
    },
    {
     "data": {
      "text/plain": [
       "<tensorflow.python.keras.callbacks.History at 0x1668b052908>"
      ]
     },
     "execution_count": 17,
     "metadata": {},
     "output_type": "execute_result"
    }
   ],
   "source": [
    "model_CF100.fit(U_train, v_train,\n",
    "                batch_size=128, \n",
    "                epochs=10,\n",
    "                validation_data=(U_test, v_test))"
   ]
  },
  {
   "cell_type": "markdown",
   "metadata": {},
   "source": [
    "**查看 model_CF100 預測 CIFAR 100 的結果**"
   ]
  },
  {
   "cell_type": "code",
   "execution_count": 19,
   "metadata": {},
   "outputs": [
    {
     "name": "stdout",
     "output_type": "stream",
     "text": [
      "50000/50000 [==============================] - 9s 185us/sample - loss: 1.6820 - categorical_accuracy: 0.5370 - los\n",
      "10000/10000 [==============================] - 2s 185us/sample - loss: 2.0853 - categorical_accuracy: 0.4507\n",
      "Train Accuracy: 53.69600057601929\n",
      "Test Accuracy: 45.07000148296356\n"
     ]
    }
   ],
   "source": [
    "score_train = model_CF100.evaluate(U_train, v_train, batch_size=1024)\n",
    "score_test = model_CF100.evaluate(U_test, v_test, batch_size=1024)\n",
    "\n",
    "print(f'Train Accuracy: {score_train[1]*100}')\n",
    "print(f'Test Accuracy: {score_test[1]*100}')"
   ]
  },
  {
   "cell_type": "markdown",
   "metadata": {},
   "source": [
    "基本上model_CF100的架構和model沒有太大的變化，但要分類的種類提升至100種，因此模型表現不好是預期之中的事。"
   ]
  },
  {
   "cell_type": "markdown",
   "metadata": {},
   "source": [
    "**再看一次 model 預測 CIFAR 10 的結果**"
   ]
  },
  {
   "cell_type": "code",
   "execution_count": 31,
   "metadata": {},
   "outputs": [
    {
     "name": "stdout",
     "output_type": "stream",
     "text": [
      "50000/50000 [==============================] - 9s 173us/sample - loss: 1.4352 - categorical_accuracy: 0.6186\n",
      "10000/10000 [==============================] - 2s 173us/sample - loss: 1.5928 - categorical_accuracy: 0.5989\n",
      "Train Accuracy: 61.86000108718872\n",
      "Test Accuracy: 59.89000201225281\n"
     ]
    }
   ],
   "source": [
    "score_train = model.evaluate(X_train, y_train, batch_size=1024)\n",
    "score_test = model.evaluate(X_test, y_test, batch_size=1024)\n",
    "\n",
    "print(f'Train Accuracy: {score_train[1]*100}')\n",
    "print(f'Test Accuracy: {score_test[1]*100}')"
   ]
  },
  {
   "cell_type": "markdown",
   "metadata": {},
   "source": [
    "咦？這個結果怎麼和原本對 CIFAR 100 實施遷移學習之前的 model 預測 CIFAR 10 的結果不同呢？"
   ]
  },
  {
   "cell_type": "markdown",
   "metadata": {},
   "source": [
    "**讀取對 CIFAR 100 實施遷移學習之前就已經儲存的 model ，然後再看 model 預測 CIFAR 10 的結果**"
   ]
  },
  {
   "cell_type": "code",
   "execution_count": 29,
   "metadata": {},
   "outputs": [
    {
     "name": "stdout",
     "output_type": "stream",
     "text": [
      "50000/50000 [==============================] - 9s 175us/sample - loss: 0.5866 - categorical_accuracy: 0.7943\n",
      "10000/10000 [==============================] - 2s 174us/sample - loss: 0.7484 - categorical_accuracy: 0.7453\n",
      "Train Accuracy: 79.4260025024414\n",
      "Test Accuracy: 74.52999949455261\n"
     ]
    }
   ],
   "source": [
    "from tensorflow.keras.models import load_model\n",
    "model_original = load_model('CIFAR10_CNN.h5')\n",
    "\n",
    "score_train = model_original.evaluate(X_train, y_train, batch_size=1024)\n",
    "score_test = model_original.evaluate(X_test, y_test, batch_size=1024)\n",
    "\n",
    "print(f'Train Accuracy: {score_train[1]*100}')\n",
    "print(f'Test Accuracy: {score_test[1]*100}')"
   ]
  },
  {
   "cell_type": "markdown",
   "metadata": {},
   "source": [
    "原來，實施遷移學習之後，對於一開始用 CIFAR 10 建立的分類模型(model)來說，雖然我凍結了 model 中第一個CNN block中的參數，但是第二個CNN block中的參數在建立 CIFAR 100 分類模型的過程中又會繼續訓練，因此在對 CIFAR 100 實施遷移學習之後的 model 和原來 model 的預測結果會不一樣。"
   ]
  },
  {
   "cell_type": "markdown",
   "metadata": {},
   "source": [
    "**保存模型**"
   ]
  },
  {
   "cell_type": "code",
   "execution_count": 21,
   "metadata": {},
   "outputs": [],
   "source": [
    "model_CF100.save('CIFAR100_CNN_transfer_learning.h5')  "
   ]
  }
 ],
 "metadata": {
  "kernelspec": {
   "display_name": "Python 3",
   "language": "python",
   "name": "python3"
  },
  "language_info": {
   "codemirror_mode": {
    "name": "ipython",
    "version": 3
   },
   "file_extension": ".py",
   "mimetype": "text/x-python",
   "name": "python",
   "nbconvert_exporter": "python",
   "pygments_lexer": "ipython3",
   "version": "3.7.4"
  }
 },
 "nbformat": 4,
 "nbformat_minor": 2
}
