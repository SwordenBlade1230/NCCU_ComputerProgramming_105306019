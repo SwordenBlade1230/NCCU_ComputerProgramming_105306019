{
 "cells": [
  {
   "cell_type": "markdown",
   "metadata": {},
   "source": [
    "# 確認tensorflow是否有用到GPU"
   ]
  },
  {
   "cell_type": "markdown",
   "metadata": {},
   "source": [
    "## 方法一：印出tensorflow可用的裝置，確認是否有GPU"
   ]
  },
  {
   "cell_type": "code",
   "execution_count": 1,
   "metadata": {},
   "outputs": [
    {
     "name": "stdout",
     "output_type": "stream",
     "text": [
      "[name: \"/device:CPU:0\"\n",
      "device_type: \"CPU\"\n",
      "memory_limit: 268435456\n",
      "locality {\n",
      "}\n",
      "incarnation: 11202251028004658919\n",
      ", name: \"/device:GPU:0\"\n",
      "device_type: \"GPU\"\n",
      "memory_limit: 1459018137\n",
      "locality {\n",
      "  bus_id: 1\n",
      "  links {\n",
      "  }\n",
      "}\n",
      "incarnation: 4558734447266754111\n",
      "physical_device_desc: \"device: 0, name: GeForce 940MX, pci bus id: 0000:01:00.0, compute capability: 5.0\"\n",
      "]\n"
     ]
    }
   ],
   "source": [
    "# 印出tensorflow可用的裝置，確認是否有GPU\n",
    "from tensorflow.python.client import device_lib\n",
    "print(device_lib.list_local_devices())"
   ]
  },
  {
   "cell_type": "markdown",
   "metadata": {},
   "source": [
    "## 方法二：執行以下的範例程式後，查看日誌信息(打開jupyter notebook除了瀏覽器的網頁外會多出一個黑色底視窗的那個)，如果信息中若包含gpu的字眼，代表有使用gpu"
   ]
  },
  {
   "cell_type": "code",
   "execution_count": 2,
   "metadata": {},
   "outputs": [
    {
     "name": "stdout",
     "output_type": "stream",
     "text": [
      "[[22. 28.]\n",
      " [49. 64.]]\n"
     ]
    }
   ],
   "source": [
    "# 範例程式\n",
    "import tensorflow as tf\n",
    "# Creates a graph.\n",
    "a = tf.constant([1.0, 2.0, 3.0, 4.0, 5.0, 6.0], shape=[2, 3], name='a')\n",
    "b = tf.constant([1.0, 2.0, 3.0, 4.0, 5.0, 6.0], shape=[3, 2], name='b')\n",
    "c = tf.matmul(a, b)\n",
    "# Creates a session with log_device_placement set to True.\n",
    "sess = tf.Session(config=tf.ConfigProto(log_device_placement=True))\n",
    "# Runs the op.\n",
    "print(sess.run(c))"
   ]
  },
  {
   "cell_type": "markdown",
   "metadata": {},
   "source": [
    "# 如果有用到GPU的話，執行下列兩個模型的程式，比較CPU和GPU所消耗的時間，會發現複雜的模型用GPU跑會比較快"
   ]
  },
  {
   "cell_type": "markdown",
   "metadata": {},
   "source": [
    "## 較簡單的模型"
   ]
  },
  {
   "cell_type": "code",
   "execution_count": 3,
   "metadata": {
    "scrolled": false
   },
   "outputs": [
    {
     "name": "stdout",
     "output_type": "stream",
     "text": [
      "WARNING:tensorflow:From C:\\Users\\kevin\\Anaconda3\\lib\\site-packages\\tensorflow\\python\\ops\\init_ops.py:1251: calling VarianceScaling.__init__ (from tensorflow.python.ops.init_ops) with dtype is deprecated and will be removed in a future version.\n",
      "Instructions for updating:\n",
      "Call initializer instance with the dtype argument instead of passing it to the constructor\n",
      "Epoch 1/5\n",
      "60000/60000 [==============================] - 3s 55us/sample - loss: 0.2960 - acc: 0.9134\n",
      "Epoch 2/5\n",
      "60000/60000 [==============================] - 3s 53us/sample - loss: 0.1426 - acc: 0.9576\n",
      "Epoch 3/5\n",
      "60000/60000 [==============================] - 3s 54us/sample - loss: 0.1078 - acc: 0.9670\n",
      "Epoch 4/5\n",
      "60000/60000 [==============================] - 3s 54us/sample - loss: 0.0872 - acc: 0.9727\n",
      "Epoch 5/5\n",
      "60000/60000 [==============================] - 3s 55us/sample - loss: 0.0758 - acc: 0.9763\n",
      "10000/10000 [==============================] - 1s 73us/sample - loss: 0.0683 - acc: 0.9795\n",
      "Epoch 1/5\n",
      "60000/60000 [==============================] - 6s 98us/sample - loss: 0.2953 - acc: 0.9132\n",
      "Epoch 2/5\n",
      "60000/60000 [==============================] - 6s 92us/sample - loss: 0.1445 - acc: 0.9572\n",
      "Epoch 3/5\n",
      "60000/60000 [==============================] - 6s 95us/sample - loss: 0.1075 - acc: 0.9670\n",
      "Epoch 4/5\n",
      "60000/60000 [==============================] - 5s 92us/sample - loss: 0.0879 - acc: 0.9730\n",
      "Epoch 5/5\n",
      "60000/60000 [==============================] - 5s 91us/sample - loss: 0.0749 - acc: 0.9764\n",
      "10000/10000 [==============================] - 1s 59us/sample - loss: 0.0767 - acc: 0.9762\n",
      "使用CPU用的時間： 17.491922616958618\n",
      "使用GPU用的時間： 29.151280641555786\n"
     ]
    }
   ],
   "source": [
    "#TensorFlow and tf.keras\n",
    "import tensorflow as tf\n",
    "#Helper libraries\n",
    "import numpy as np\n",
    "import matplotlib.pyplot as plt\n",
    "from time import time\n",
    "\n",
    "mnist = tf.keras.datasets.mnist\n",
    "(x_train, y_train), (x_test, y_test) = mnist.load_data()\n",
    "x_train, x_test = x_train / 255.0, x_test / 255.0\n",
    "\n",
    "# 用CPU運算\n",
    "startTime1 = time()\n",
    "\n",
    "with tf.device('/cpu:0'):\n",
    "    model = tf.keras.models.Sequential([\n",
    "      tf.keras.layers.Flatten(input_shape=(28, 28)),\n",
    "      tf.keras.layers.Dense(128, activation='relu'),\n",
    "      tf.keras.layers.Dropout(0.2),\n",
    "      tf.keras.layers.Dense(10, activation='softmax')\n",
    "    ])\n",
    "    model.compile(optimizer='adam',\n",
    "                  loss='sparse_categorical_crossentropy',\n",
    "                  metrics=['accuracy'])\n",
    "    model.fit(x_train, y_train, epochs=5)\n",
    "    model.evaluate(x_test, y_test)\n",
    "t1 = time() - startTime1\n",
    "\n",
    "# 用GPU運算\n",
    "startTime2 = time()\n",
    "\n",
    "with tf.device('/gpu:0'):\n",
    "    model = tf.keras.models.Sequential([\n",
    "      tf.keras.layers.Flatten(input_shape=(28, 28)),\n",
    "      tf.keras.layers.Dense(128, activation='relu'),\n",
    "      tf.keras.layers.Dropout(0.2),\n",
    "      tf.keras.layers.Dense(10, activation='softmax')\n",
    "    ])\n",
    "    model.compile(optimizer='adam',\n",
    "                  loss='sparse_categorical_crossentropy',\n",
    "                  metrics=['accuracy'])\n",
    "    model.fit(x_train, y_train, epochs=5)\n",
    "    model.evaluate(x_test, y_test)\n",
    "\n",
    "t2 = time() - startTime2\n",
    "\n",
    "print('使用CPU用的時間：', t1)\n",
    "print('使用GPU用的時間：', t2)"
   ]
  },
  {
   "cell_type": "markdown",
   "metadata": {},
   "source": [
    "## 較複雜的模型"
   ]
  },
  {
   "cell_type": "code",
   "execution_count": 4,
   "metadata": {},
   "outputs": [
    {
     "name": "stdout",
     "output_type": "stream",
     "text": [
      "Epoch 1/5\n",
      "60000/60000 [==============================] - 28s 474us/sample - loss: 0.1991 - acc: 0.9394\n",
      "Epoch 2/5\n",
      "60000/60000 [==============================] - 28s 462us/sample - loss: 0.1037 - acc: 0.9685\n",
      "Epoch 3/5\n",
      "60000/60000 [==============================] - 29s 476us/sample - loss: 0.0805 - acc: 0.9758\n",
      "Epoch 4/5\n",
      "60000/60000 [==============================] - 27s 447us/sample - loss: 0.0681 - acc: 0.9796\n",
      "Epoch 5/5\n",
      "60000/60000 [==============================] - 27s 455us/sample - loss: 0.0574 - acc: 0.9825\n",
      "10000/10000 [==============================] - 2s 163us/sample - loss: 0.0850 - acc: 0.9776\n",
      "Epoch 1/5\n",
      "60000/60000 [==============================] - 20s 329us/sample - loss: 0.2033 - acc: 0.9384\n",
      "Epoch 2/5\n",
      "60000/60000 [==============================] - 20s 338us/sample - loss: 0.1026 - acc: 0.9682\n",
      "Epoch 3/5\n",
      "60000/60000 [==============================] - 20s 326us/sample - loss: 0.0830 - acc: 0.9747\n",
      "Epoch 4/5\n",
      "60000/60000 [==============================] - 19s 325us/sample - loss: 0.0663 - acc: 0.9799\n",
      "Epoch 5/5\n",
      "60000/60000 [==============================] - 20s 329us/sample - loss: 0.0586 - acc: 0.9820\n",
      "10000/10000 [==============================] - 1s 92us/sample - loss: 0.0856 - acc: 0.9769\n",
      "使用CPU用的時間： 141.20597195625305\n",
      "使用GPU用的時間： 100.52022743225098\n"
     ]
    }
   ],
   "source": [
    "#TensorFlow and tf.keras\n",
    "import tensorflow as tf\n",
    "#Helper libraries\n",
    "import numpy as np\n",
    "import matplotlib.pyplot as plt\n",
    "from time import time\n",
    "\n",
    "mnist = tf.keras.datasets.mnist\n",
    "(x_train, y_train), (x_test, y_test) = mnist.load_data()\n",
    "x_train, x_test = x_train / 255.0, x_test / 255.0\n",
    "\n",
    "# 用CPU運算\n",
    "startTime1 = time()\n",
    "\n",
    "with tf.device('/cpu:0'):\n",
    "    model = tf.keras.models.Sequential([\n",
    "      tf.keras.layers.Flatten(input_shape=(28, 28)),\n",
    "      tf.keras.layers.Dense(1000, activation='relu'),\n",
    "      tf.keras.layers.Dropout(0.2),\n",
    "      tf.keras.layers.Dense(1000, activation='relu'),\n",
    "      tf.keras.layers.Dropout(0.2),\n",
    "      tf.keras.layers.Dense(10, activation='softmax')\n",
    "    ])\n",
    "    model.compile(optimizer='adam',\n",
    "                  loss='sparse_categorical_crossentropy',\n",
    "                  metrics=['accuracy'])\n",
    "    model.fit(x_train, y_train, epochs=5)\n",
    "    model.evaluate(x_test, y_test)\n",
    "\n",
    "t1 = time() - startTime1\n",
    "\n",
    "# 用GPU運算\n",
    "startTime2 = time()\n",
    "\n",
    "with tf.device('/gpu:0'):\n",
    "    model = tf.keras.models.Sequential([\n",
    "      tf.keras.layers.Flatten(input_shape=(28, 28)),\n",
    "      tf.keras.layers.Dense(1000, activation='relu'),\n",
    "      tf.keras.layers.Dropout(0.2),\n",
    "      tf.keras.layers.Dense(1000, activation='relu'),\n",
    "      tf.keras.layers.Dropout(0.2),\n",
    "      tf.keras.layers.Dense(10, activation='softmax')\n",
    "    ])\n",
    "\n",
    "    model.compile(optimizer='adam',\n",
    "                  loss='sparse_categorical_crossentropy',\n",
    "                  metrics=['accuracy'])\n",
    "    \n",
    "    model.fit(x_train, y_train, epochs=5)\n",
    "    model.evaluate(x_test, y_test)\n",
    "\n",
    "t2 = time() - startTime2\n",
    "\n",
    "print('使用CPU用的時間：', t1)\n",
    "print('使用GPU用的時間：', t2)"
   ]
  }
 ],
 "metadata": {
  "kernelspec": {
   "display_name": "Python 3",
   "language": "python",
   "name": "python3"
  },
  "language_info": {
   "codemirror_mode": {
    "name": "ipython",
    "version": 3
   },
   "file_extension": ".py",
   "mimetype": "text/x-python",
   "name": "python",
   "nbconvert_exporter": "python",
   "pygments_lexer": "ipython3",
   "version": "3.7.4"
  }
 },
 "nbformat": 4,
 "nbformat_minor": 2
}
