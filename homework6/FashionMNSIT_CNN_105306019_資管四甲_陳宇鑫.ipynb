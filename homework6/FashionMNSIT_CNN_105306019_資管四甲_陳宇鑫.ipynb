{
 "cells": [
  {
   "cell_type": "code",
   "execution_count": 1,
   "metadata": {},
   "outputs": [],
   "source": [
    "%matplotlib inline\n",
    "\n",
    "import numpy as np\n",
    "import matplotlib.pyplot as plt"
   ]
  },
  {
   "cell_type": "markdown",
   "metadata": {},
   "source": [
    "### 1. 讀入 Fashion MNSIT 數據集"
   ]
  },
  {
   "cell_type": "code",
   "execution_count": 2,
   "metadata": {},
   "outputs": [],
   "source": [
    "from tensorflow.keras.datasets import fashion_mnist"
   ]
  },
  {
   "cell_type": "code",
   "execution_count": 3,
   "metadata": {},
   "outputs": [],
   "source": [
    "(x_train, y_train), (x_test, y_test) = fashion_mnist.load_data()"
   ]
  },
  {
   "cell_type": "markdown",
   "metadata": {},
   "source": [
    "### 2. 欣賞數據集內容"
   ]
  },
  {
   "cell_type": "markdown",
   "metadata": {},
   "source": [
    "#### 查看資料的形狀和其資料型態"
   ]
  },
  {
   "cell_type": "code",
   "execution_count": 4,
   "metadata": {},
   "outputs": [
    {
     "data": {
      "text/plain": [
       "(60000, 28, 28)"
      ]
     },
     "execution_count": 4,
     "metadata": {},
     "output_type": "execute_result"
    }
   ],
   "source": [
    "x_train.shape"
   ]
  },
  {
   "cell_type": "code",
   "execution_count": 5,
   "metadata": {},
   "outputs": [
    {
     "data": {
      "text/plain": [
       "(10000, 28, 28)"
      ]
     },
     "execution_count": 5,
     "metadata": {},
     "output_type": "execute_result"
    }
   ],
   "source": [
    "x_test.shape"
   ]
  },
  {
   "cell_type": "code",
   "execution_count": 6,
   "metadata": {},
   "outputs": [
    {
     "data": {
      "text/plain": [
       "numpy.ndarray"
      ]
     },
     "execution_count": 6,
     "metadata": {},
     "output_type": "execute_result"
    }
   ],
   "source": [
    "type(x_train)"
   ]
  },
  {
   "cell_type": "code",
   "execution_count": 7,
   "metadata": {},
   "outputs": [
    {
     "name": "stdout",
     "output_type": "stream",
     "text": [
      "資料集中單一圖片的像素範圍： 0 ~ 255\n"
     ]
    }
   ],
   "source": [
    "print('資料集中單一圖片的像素範圍：', np.min(x_train[0]), '~', np.max(x_train[0]))"
   ]
  },
  {
   "cell_type": "code",
   "execution_count": 8,
   "metadata": {},
   "outputs": [
    {
     "name": "stdout",
     "output_type": "stream",
     "text": [
      "y有哪些類別： {0, 1, 2, 3, 4, 5, 6, 7, 8, 9}\n"
     ]
    }
   ],
   "source": [
    "print('y有哪些類別：', set(y_train))"
   ]
  },
  {
   "cell_type": "markdown",
   "metadata": {},
   "source": [
    "#### 隨機查看訓練集中的五張圖片和其類別"
   ]
  },
  {
   "cell_type": "code",
   "execution_count": 9,
   "metadata": {},
   "outputs": [],
   "source": [
    "class_names = ['T-shirt/top', 'Trouser', 'Pullover', 'Dress', 'Coat',\n",
    "               'Sandal', 'Shirt', 'Sneaker', 'Bag', 'Ankle boot']"
   ]
  },
  {
   "cell_type": "code",
   "execution_count": 10,
   "metadata": {},
   "outputs": [
    {
     "data": {
      "image/png": "[encoded data removed]",
      "text/plain": [
       "<Figure size 1440x720 with 5 Axes>"
      ]
     },
     "metadata": {},
     "output_type": "display_data"
    }
   ],
   "source": [
    "pick = np.random.choice(60000, 5, replace=False)\n",
    "plt.figure(figsize=(20,10)) # 調整畫布的大小\n",
    "\n",
    "for i in range(5):\n",
    "    n = pick[i]\n",
    "    ax = plt.subplot(151+i)\n",
    "    ax.set_xticks([])\n",
    "    ax.set_yticks([])\n",
    "    ax.set_title(class_names[y_train[n]], fontsize=10)\n",
    "    plt.imshow(x_train[n], cmap='Greys')  "
   ]
  },
  {
   "cell_type": "markdown",
   "metadata": {},
   "source": [
    "### 3. 資料整理"
   ]
  },
  {
   "cell_type": "markdown",
   "metadata": {},
   "source": [
    "#### 將圖片中的像素正規化 range(0, 255) → range(0, 1)"
   ]
  },
  {
   "cell_type": "code",
   "execution_count": 11,
   "metadata": {},
   "outputs": [],
   "source": [
    "x_train = x_train / 255\n",
    "x_test = x_test / 255"
   ]
  },
  {
   "cell_type": "markdown",
   "metadata": {},
   "source": [
    "**CNN的輸入資料需要定義channel的數量，由於該資料集的圖片是灰階的，即一個channel(彩色圖片有三個)，因此必須將X的形狀從 (n, 28, 28) 重塑成  \n",
    "(n, 28, 28, 1)，也就是將channel的數量放在X的第四個維度**"
   ]
  },
  {
   "cell_type": "code",
   "execution_count": 12,
   "metadata": {},
   "outputs": [],
   "source": [
    "x_train = x_train.reshape(x_train.shape[0], 28, 28, 1)\n",
    "x_test = x_test.reshape(x_test.shape[0], 28, 28, 1)"
   ]
  },
  {
   "cell_type": "markdown",
   "metadata": {},
   "source": [
    "#### 對y進行獨熱編碼(one-hot encoding)"
   ]
  },
  {
   "cell_type": "code",
   "execution_count": 13,
   "metadata": {},
   "outputs": [],
   "source": [
    "from tensorflow.keras.utils import to_categorical\n",
    "y_train = to_categorical(y_train, 10)\n",
    "y_test = to_categorical(y_test, 10)"
   ]
  },
  {
   "cell_type": "markdown",
   "metadata": {},
   "source": [
    "### 4. 打造神經網路(CNN)"
   ]
  },
  {
   "cell_type": "code",
   "execution_count": 14,
   "metadata": {},
   "outputs": [
    {
     "name": "stderr",
     "output_type": "stream",
     "text": [
      "Using TensorFlow backend.\n"
     ]
    }
   ],
   "source": [
    "from tensorflow.keras.models import Sequential\n",
    "from tensorflow.keras.layers import Dense # dense：全連結神經層\n",
    "from tensorflow.keras.layers import Conv2D, MaxPooling2D, Dropout # CNN會用到的layer\n",
    "    # Conv2D的2D代表每個「記分板(kernal)」的維度 \n",
    "    # 如果輸入的是2D圖片(無論是灰階或是彩色)都是用Conv2D，輸入的是3D的立體圖片用Conv3D\n",
    "    # Conv2D輸入的是三維數據(width, height, channels)；Conv3D輸入的是四維數據(width, height, depth, channels)\n",
    "from tensorflow.keras.layers import Dense, Flatten # dense = 全連結神經層\n",
    "import keras"
   ]
  },
  {
   "cell_type": "markdown",
   "metadata": {},
   "source": [
    "**我對模型做了那些修改？**\n",
    "* CNN的架構原本我想要參考VGG16(下圖是VGG16的架構圖)，但是該資料集圖片大小僅28 x 28，做五次MaxPooling會使輸出變得太小(做到第四次輸出大小就已經是1 x 1了)，而且卷積層的filter數量和全連結層的神經元數量太多，運算資源不夠，因此我有重新簡化整個模型的架構。    \n",
    "  (參考資料：https://neurohive.io/en/popular-networks/vgg16/)\n",
    "<img src=\"vgg16.png\" style=\"zoom:70%\"> \n",
    "* 損失函數改用交叉熵(crossentropy)，因為分類問題用MSE做為分類問題的損失函數可能會發生梯度消失的問題\n",
    "* optimizer改用adam，好處就是adam會在訓練的過程中自己調整學習率"
   ]
  },
  {
   "cell_type": "code",
   "execution_count": 15,
   "metadata": {},
   "outputs": [
    {
     "name": "stdout",
     "output_type": "stream",
     "text": [
      "WARNING:tensorflow:From C:\\Users\\kevin\\Anaconda3\\lib\\site-packages\\tensorflow\\python\\ops\\init_ops.py:1251: calling VarianceScaling.__init__ (from tensorflow.python.ops.init_ops) with dtype is deprecated and will be removed in a future version.\n",
      "Instructions for updating:\n",
      "Call initializer instance with the dtype argument instead of passing it to the constructor\n"
     ]
    }
   ],
   "source": [
    "model = Sequential() # 打開一個空白的函數學習機\n",
    "\n",
    "# Conv block 1\n",
    "model.add(Conv2D(16, (3,3), padding = 'same', input_shape = (28,28,1), activation = 'relu')) \n",
    "    # padding = 'same': 輸入的維度是多少，無論filter的大小，輸出的維度就是多少\n",
    "model.add(Conv2D(16, (3,3), padding = 'same', activation = 'relu'))\n",
    "model.add(MaxPooling2D(pool_size = (2,2)))\n",
    "\n",
    "# Conv block 2\n",
    "model.add(Conv2D(32, (3,3), padding = 'same', activation = 'relu'))\n",
    "model.add(Conv2D(32, (3,3), padding = 'same', activation = 'relu'))\n",
    "model.add(MaxPooling2D(pool_size = (2,2)))\n",
    "\n",
    "# Conv block 3\n",
    "model.add(Conv2D(64, (3,3), padding = 'same', activation = 'relu'))\n",
    "model.add(Conv2D(64, (3,3), padding = 'same', activation = 'relu'))\n",
    "model.add(Conv2D(64, (3,3), padding = 'same', activation = 'relu'))\n",
    "model.add(MaxPooling2D(pool_size = (2,2)))\n",
    "\n",
    "# # Conv block 4\n",
    "# model.add(Conv2D(128, (3,3), padding = 'same', activation = 'relu'))\n",
    "# model.add(Conv2D(128, (3,3), padding = 'same', activation = 'relu'))\n",
    "# model.add(Conv2D(128, (3,3), padding = 'same', activation = 'relu'))\n",
    "# model.add(MaxPooling2D(pool_size = (2,2)))\n",
    "\n",
    "# # Conv block 5\n",
    "# model.add(Conv2D(128, (3,3), padding = 'same', activation = 'relu'))\n",
    "# model.add(Conv2D(128, (3,3), padding = 'same', activation = 'relu'))\n",
    "# model.add(Conv2D(128, (3,3), padding = 'same', activation = 'relu'))\n",
    "# model.add(MaxPooling2D(pool_size = (2,2)))\n",
    "\n",
    "# fully-connected classifier\n",
    "model.add(Flatten())\n",
    "# model.add(Dense(128, activation = 'relu'))\n",
    "model.add(Dense(128, activation = 'relu'))\n",
    "model.add(Dropout(0.25)) # 在全連結層後面加上dropout layer可以減少模型overfitting的現象\n",
    "model.add(Dense(10, activation = 'softmax'))\n",
    "\n",
    "model.compile(loss = keras.losses.categorical_crossentropy, optimizer = 'adam', metrics = ['accuracy'])"
   ]
  },
  {
   "cell_type": "markdown",
   "metadata": {},
   "source": [
    "#### 查看模型結構"
   ]
  },
  {
   "cell_type": "code",
   "execution_count": 16,
   "metadata": {},
   "outputs": [
    {
     "name": "stdout",
     "output_type": "stream",
     "text": [
      "Model: \"sequential\"\n",
      "_________________________________________________________________\n",
      "Layer (type)                 Output Shape              Param #   \n",
      "=================================================================\n",
      "conv2d (Conv2D)              (None, 28, 28, 16)        160       \n",
      "_________________________________________________________________\n",
      "conv2d_1 (Conv2D)            (None, 28, 28, 16)        2320      \n",
      "_________________________________________________________________\n",
      "max_pooling2d (MaxPooling2D) (None, 14, 14, 16)        0         \n",
      "_________________________________________________________________\n",
      "conv2d_2 (Conv2D)            (None, 14, 14, 32)        4640      \n",
      "_________________________________________________________________\n",
      "conv2d_3 (Conv2D)            (None, 14, 14, 32)        9248      \n",
      "_________________________________________________________________\n",
      "max_pooling2d_1 (MaxPooling2 (None, 7, 7, 32)          0         \n",
      "_________________________________________________________________\n",
      "conv2d_4 (Conv2D)            (None, 7, 7, 64)          18496     \n",
      "_________________________________________________________________\n",
      "conv2d_5 (Conv2D)            (None, 7, 7, 64)          36928     \n",
      "_________________________________________________________________\n",
      "conv2d_6 (Conv2D)            (None, 7, 7, 64)          36928     \n",
      "_________________________________________________________________\n",
      "max_pooling2d_2 (MaxPooling2 (None, 3, 3, 64)          0         \n",
      "_________________________________________________________________\n",
      "flatten (Flatten)            (None, 576)               0         \n",
      "_________________________________________________________________\n",
      "dense (Dense)                (None, 128)               73856     \n",
      "_________________________________________________________________\n",
      "dropout (Dropout)            (None, 128)               0         \n",
      "_________________________________________________________________\n",
      "dense_1 (Dense)              (None, 10)                1290      \n",
      "=================================================================\n",
      "Total params: 183,866\n",
      "Trainable params: 183,866\n",
      "Non-trainable params: 0\n",
      "_________________________________________________________________\n"
     ]
    }
   ],
   "source": [
    "model.summary()"
   ]
  },
  {
   "cell_type": "markdown",
   "metadata": {},
   "source": [
    "**這裡我有實施「early stopping」，即模型訓練一段時間之後，當準確率不再有顯著的提升就提早結束訓練，這樣不僅能夠節省訓練的時間，也可以防止模型過度擬合。**"
   ]
  },
  {
   "cell_type": "code",
   "execution_count": 17,
   "metadata": {},
   "outputs": [],
   "source": [
    "from keras.callbacks import EarlyStopping\n",
    "early_stopping = EarlyStopping(monitor = 'val_loss', patience = 3, verbose = 0, mode = 'auto') \n",
    "    # patience = 3: 當模型不再有顯著的進步時，還會再多訓練3個epochs才結束訓練"
   ]
  },
  {
   "cell_type": "markdown",
   "metadata": {},
   "source": [
    "### 5. 訓練"
   ]
  },
  {
   "cell_type": "markdown",
   "metadata": {},
   "source": [
    "#### 這裡我用訓練集中三成的資料做為驗證集，即用60000 * 0.3 = 18000筆資料做為驗證集。"
   ]
  },
  {
   "cell_type": "code",
   "execution_count": 18,
   "metadata": {
    "scrolled": false
   },
   "outputs": [
    {
     "name": "stdout",
     "output_type": "stream",
     "text": [
      "Train on 42000 samples, validate on 18000 samples\n",
      "Epoch 1/20\n",
      "42000/42000 [==============================] - 20s 478us/sample - loss: 0.7092 - acc: 0.7385 - val_loss: 0.4206 - val_acc: 0.8407\n",
      "Epoch 2/20\n",
      "42000/42000 [==============================] - 18s 431us/sample - loss: 0.3948 - acc: 0.8546 - val_loss: 0.3596 - val_acc: 0.8633\n",
      "Epoch 3/20\n",
      "42000/42000 [==============================] - 18s 431us/sample - loss: 0.3325 - acc: 0.8777 - val_loss: 0.2980 - val_acc: 0.8893\n",
      "Epoch 4/20\n",
      "42000/42000 [==============================] - 18s 432us/sample - loss: 0.2888 - acc: 0.8944 - val_loss: 0.2886 - val_acc: 0.8957\n",
      "Epoch 5/20\n",
      "42000/42000 [==============================] - 18s 438us/sample - loss: 0.2647 - acc: 0.9034 - val_loss: 0.2543 - val_acc: 0.9061\n",
      "Epoch 6/20\n",
      "42000/42000 [==============================] - 18s 437us/sample - loss: 0.2448 - acc: 0.9104 - val_loss: 0.2667 - val_acc: 0.9063\n",
      "Epoch 7/20\n",
      "42000/42000 [==============================] - 19s 442us/sample - loss: 0.2280 - acc: 0.9163 - val_loss: 0.2398 - val_acc: 0.9114\n",
      "Epoch 8/20\n",
      "42000/42000 [==============================] - 20s 465us/sample - loss: 0.2066 - acc: 0.9246 - val_loss: 0.2572 - val_acc: 0.9046\n",
      "Epoch 9/20\n",
      "42000/42000 [==============================] - 19s 442us/sample - loss: 0.1978 - acc: 0.9270 - val_loss: 0.2282 - val_acc: 0.9184\n",
      "Epoch 10/20\n",
      "42000/42000 [==============================] - 19s 446us/sample - loss: 0.1844 - acc: 0.9309 - val_loss: 0.2385 - val_acc: 0.9178\n",
      "Epoch 11/20\n",
      "42000/42000 [==============================] - 18s 440us/sample - loss: 0.1718 - acc: 0.9361 - val_loss: 0.2258 - val_acc: 0.9207\n",
      "Epoch 12/20\n",
      "42000/42000 [==============================] - 19s 450us/sample - loss: 0.1565 - acc: 0.9410 - val_loss: 0.2472 - val_acc: 0.9180\n",
      "Epoch 13/20\n",
      "42000/42000 [==============================] - 19s 442us/sample - loss: 0.1529 - acc: 0.9430 - val_loss: 0.2364 - val_acc: 0.9213\n",
      "Epoch 14/20\n",
      "42000/42000 [==============================] - 19s 442us/sample - loss: 0.1366 - acc: 0.9501 - val_loss: 0.2494 - val_acc: 0.9232\n"
     ]
    }
   ],
   "source": [
    "history = model.fit(x_train, y_train, batch_size = 128, epochs = 20, validation_split = 0.3, callbacks = [early_stopping])"
   ]
  },
  {
   "cell_type": "markdown",
   "metadata": {},
   "source": [
    "### 6. 訓練成果"
   ]
  },
  {
   "cell_type": "markdown",
   "metadata": {},
   "source": [
    "#### 畫出訓練過程中訓練集和驗證集準確率和loss值的變化情形"
   ]
  },
  {
   "cell_type": "code",
   "execution_count": 19,
   "metadata": {},
   "outputs": [
    {
     "data": {
      "image/png": "[encoded data removed]",
      "text/plain": [
       "<Figure size 432x288 with 1 Axes>"
      ]
     },
     "metadata": {
      "needs_background": "light"
     },
     "output_type": "display_data"
    },
    {
     "data": {
      "image/png": "[encoded data removed]",
      "text/plain": [
       "<Figure size 432x288 with 1 Axes>"
      ]
     },
     "metadata": {
      "needs_background": "light"
     },
     "output_type": "display_data"
    }
   ],
   "source": [
    "import matplotlib.pyplot as plt\n",
    "\n",
    "# Plot training & validation accuracy values\n",
    "plt.plot(history.history['acc'])\n",
    "plt.plot(history.history['val_acc'])\n",
    "plt.title('Model accuracy')\n",
    "plt.ylabel('Accuracy')\n",
    "plt.xlabel('Epoch')\n",
    "plt.legend(['Train', 'Test'], loc='upper left')\n",
    "plt.show()\n",
    "\n",
    "# Plot training & validation loss values\n",
    "plt.plot(history.history['loss'])\n",
    "plt.plot(history.history['val_loss'])\n",
    "plt.title('Model loss')\n",
    "plt.ylabel('Loss')\n",
    "plt.xlabel('Epoch')\n",
    "plt.legend(['Train', 'Test'], loc='upper left')\n",
    "plt.show()"
   ]
  },
  {
   "cell_type": "markdown",
   "metadata": {},
   "source": [
    "雖然最後幾個epoch訓練集的表現有稍微高出驗證集，但也在還能接受的範圍內，代表這個模型是可以用來預測的。"
   ]
  },
  {
   "cell_type": "markdown",
   "metadata": {},
   "source": [
    "#### 查看該模型預測測試集資料的結果"
   ]
  },
  {
   "cell_type": "code",
   "execution_count": 20,
   "metadata": {},
   "outputs": [
    {
     "name": "stdout",
     "output_type": "stream",
     "text": [
      "10000/10000 [==============================] - 2s 178us/sample - loss: 0.2634 - acc: 0.9175\n",
      "Test loss: 0.2634243969097734\n",
      "Test accuracy: 0.9175\n"
     ]
    }
   ],
   "source": [
    "score = model.evaluate(x_test, y_test)\n",
    "print('Test loss:', score[0])\n",
    "print('Test accuracy:', score[1])"
   ]
  },
  {
   "cell_type": "markdown",
   "metadata": {},
   "source": [
    "上次用DNN測試集的準確率為0.8713，改用CNN有稍微進步。"
   ]
  },
  {
   "cell_type": "markdown",
   "metadata": {},
   "source": [
    "#### 用互動模式看模型預測測試集某一張圖片的結果"
   ]
  },
  {
   "cell_type": "code",
   "execution_count": 21,
   "metadata": {},
   "outputs": [],
   "source": [
    "result = model.predict_classes(x_test)"
   ]
  },
  {
   "cell_type": "code",
   "execution_count": 24,
   "metadata": {},
   "outputs": [],
   "source": [
    "def my_predict(n):\n",
    "    print('我的CNN預測是', class_names[result[n]])\n",
    "    print('實際的標籤是', class_names[np.argmax(y_test[n])])\n",
    "    X = x_test[n].reshape(28,28)\n",
    "    plt.imshow(X, cmap = 'Greys')"
   ]
  },
  {
   "cell_type": "code",
   "execution_count": 25,
   "metadata": {},
   "outputs": [
    {
     "data": {
      "application/vnd.jupyter.widget-view+json": {
       "model_id": "d89be468d91d4fe5a402a6839387c8d6",
       "version_major": 2,
       "version_minor": 0
      },
      "text/plain": [
       "interactive(children=(IntSlider(value=4999, description='n', max=9999), Button(description='Run Interact', sty…"
      ]
     },
     "metadata": {},
     "output_type": "display_data"
    },
    {
     "data": {
      "text/plain": [
       "<function __main__.my_predict(n)>"
      ]
     },
     "execution_count": 25,
     "metadata": {},
     "output_type": "execute_result"
    }
   ],
   "source": [
    "from ipywidgets import interact_manual\n",
    "interact_manual(my_predict, n = (0, 9999)) # (要互動的函數, 輸入的範圍)"
   ]
  },
  {
   "cell_type": "markdown",
   "metadata": {},
   "source": [
    "**將訓練完的model儲存起來**"
   ]
  },
  {
   "cell_type": "code",
   "execution_count": 26,
   "metadata": {},
   "outputs": [],
   "source": [
    "model.save('myCNNmodel.h5')"
   ]
  }
 ],
 "metadata": {
  "kernelspec": {
   "display_name": "Python 3",
   "language": "python",
   "name": "python3"
  },
  "language_info": {
   "codemirror_mode": {
    "name": "ipython",
    "version": 3
   },
   "file_extension": ".py",
   "mimetype": "text/x-python",
   "name": "python",
   "nbconvert_exporter": "python",
   "pygments_lexer": "ipython3",
   "version": "3.7.4"
  }
 },
 "nbformat": 4,
 "nbformat_minor": 2
}
