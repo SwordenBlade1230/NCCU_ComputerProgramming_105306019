{
 "cells": [
  {
   "cell_type": "code",
   "execution_count": 1,
   "metadata": {},
   "outputs": [],
   "source": [
    "%matplotlib inline\n",
    "\n",
    "import numpy as np\n",
    "import matplotlib.pyplot as plt\n",
    "import pandas as pd"
   ]
  },
  {
   "cell_type": "markdown",
   "metadata": {},
   "source": [
    "### 1. 讀入深度學習套件"
   ]
  },
  {
   "cell_type": "code",
   "execution_count": 2,
   "metadata": {},
   "outputs": [],
   "source": [
    "from tensorflow.keras.preprocessing import sequence # 把輸入的長度弄成一樣長\n",
    "from tensorflow.keras.models import Sequential\n",
    "from tensorflow.keras.layers import Dense, Embedding # Embedding：處理文字用的layer(把文字做one-hot encoding)\n",
    "from tensorflow.keras.layers import LSTM, GRU\n",
    "from tensorflow.keras.datasets import imdb"
   ]
  },
  {
   "cell_type": "markdown",
   "metadata": {},
   "source": [
    "### 2. 讀入數據"
   ]
  },
  {
   "cell_type": "code",
   "execution_count": 3,
   "metadata": {},
   "outputs": [],
   "source": [
    "(x_train, y_train), (x_test, y_test) = imdb.load_data(num_words = 10000) # num_words：常用字的數量"
   ]
  },
  {
   "cell_type": "code",
   "execution_count": 4,
   "metadata": {},
   "outputs": [
    {
     "data": {
      "text/plain": [
       "25000"
      ]
     },
     "execution_count": 4,
     "metadata": {},
     "output_type": "execute_result"
    }
   ],
   "source": [
    "len(x_train)"
   ]
  },
  {
   "cell_type": "code",
   "execution_count": 5,
   "metadata": {},
   "outputs": [
    {
     "data": {
      "text/plain": [
       "25000"
      ]
     },
     "execution_count": 5,
     "metadata": {},
     "output_type": "execute_result"
    }
   ],
   "source": [
    "len(x_test)"
   ]
  },
  {
   "cell_type": "code",
   "execution_count": 42,
   "metadata": {
    "scrolled": true
   },
   "outputs": [
    {
     "data": {
      "text/plain": [
       "array([  12,    8,  316,    8,  106,    5,    4, 2223, 5244,   16])"
      ]
     },
     "execution_count": 42,
     "metadata": {},
     "output_type": "execute_result"
    }
   ],
   "source": [
    "x_train[0][:10] # 出現的數字代表該字出現的頻率排名"
   ]
  },
  {
   "cell_type": "code",
   "execution_count": 7,
   "metadata": {},
   "outputs": [
    {
     "data": {
      "text/plain": [
       "218"
      ]
     },
     "execution_count": 7,
     "metadata": {},
     "output_type": "execute_result"
    }
   ],
   "source": [
    "len(x_train[0]) # 第0號評論有幾個字"
   ]
  },
  {
   "cell_type": "code",
   "execution_count": 8,
   "metadata": {},
   "outputs": [
    {
     "data": {
      "text/plain": [
       "189"
      ]
     },
     "execution_count": 8,
     "metadata": {},
     "output_type": "execute_result"
    }
   ],
   "source": [
    "len(x_train[1]) # 第1號評論有幾個字"
   ]
  },
  {
   "cell_type": "code",
   "execution_count": 9,
   "metadata": {},
   "outputs": [
    {
     "data": {
      "text/plain": [
       "1"
      ]
     },
     "execution_count": 9,
     "metadata": {},
     "output_type": "execute_result"
    }
   ],
   "source": [
    "y_train[0] # 1 = 正評"
   ]
  },
  {
   "cell_type": "code",
   "execution_count": 10,
   "metadata": {},
   "outputs": [
    {
     "data": {
      "text/plain": [
       "0"
      ]
     },
     "execution_count": 10,
     "metadata": {},
     "output_type": "execute_result"
    }
   ],
   "source": [
    "y_train[1] # 0 = 負評"
   ]
  },
  {
   "cell_type": "markdown",
   "metadata": {},
   "source": [
    "### 3. 資料處理"
   ]
  },
  {
   "cell_type": "markdown",
   "metadata": {},
   "source": [
    "調整項目：\n",
    "* maxlen 100 → 128\n",
    "* 把25000筆測試集拆成15000筆驗證集和10000筆測試集，此時訓練集、驗證集和測試集的比例為5:3:2"
   ]
  },
  {
   "cell_type": "code",
   "execution_count": 11,
   "metadata": {},
   "outputs": [],
   "source": [
    "### 儘管RNN的輸入可以是不定長度的，還是要先把輸入用成一樣長 ###\n",
    "x_train = sequence.pad_sequences(x_train, maxlen = 128) # maxlen = 128: 低於128字補0；超過100字把超過的地方去掉\n",
    "x_test = sequence.pad_sequences(x_test, maxlen = 128)"
   ]
  },
  {
   "cell_type": "code",
   "execution_count": 12,
   "metadata": {},
   "outputs": [
    {
     "name": "stdout",
     "output_type": "stream",
     "text": [
      "(15000, 128) (10000, 128)\n",
      "(15000,) (10000,)\n"
     ]
    }
   ],
   "source": [
    "from sklearn.model_selection import train_test_split\n",
    "x_val, x_test, y_val, y_test = train_test_split(x_test, \n",
    "                                                y_test,\n",
    "                                                test_size = 0.4,\n",
    "                                                random_state = 100)\n",
    "print(x_val.shape, x_test.shape)\n",
    "print(y_val.shape, y_test.shape)"
   ]
  },
  {
   "cell_type": "code",
   "execution_count": 30,
   "metadata": {},
   "outputs": [],
   "source": [
    "import sklearn"
   ]
  },
  {
   "cell_type": "code",
   "execution_count": 13,
   "metadata": {},
   "outputs": [
    {
     "data": {
      "text/plain": [
       "array([  12,    8,  316,    8,  106,    5,    4, 2223, 5244,   16,  480,\n",
       "         66, 3785,   33,    4,  130,   12,   16,   38,  619,    5,   25,\n",
       "        124,   51,   36,  135,   48,   25, 1415,   33,    6,   22,   12,\n",
       "        215,   28,   77,   52,    5,   14,  407,   16,   82,    2,    8,\n",
       "          4,  107,  117, 5952,   15,  256,    4,    2,    7, 3766,    5,\n",
       "        723,   36,   71,   43,  530,  476,   26,  400,  317,   46,    7,\n",
       "          4,    2, 1029,   13,  104,   88,    4,  381,   15,  297,   98,\n",
       "         32, 2071,   56,   26,  141,    6,  194, 7486,   18,    4,  226,\n",
       "         22,   21,  134,  476,   26,  480,    5,  144,   30, 5535,   18,\n",
       "         51,   36,   28,  224,   92,   25,  104,    4,  226,   65,   16,\n",
       "         38, 1334,   88,   12,   16,  283,    5,   16, 4472,  113,  103,\n",
       "         32,   15,   16, 5345,   19,  178,   32])"
      ]
     },
     "execution_count": 13,
     "metadata": {},
     "output_type": "execute_result"
    }
   ],
   "source": [
    "x_train[0]"
   ]
  },
  {
   "cell_type": "code",
   "execution_count": 14,
   "metadata": {},
   "outputs": [
    {
     "data": {
      "text/plain": [
       "(25000, 128)"
      ]
     },
     "execution_count": 14,
     "metadata": {},
     "output_type": "execute_result"
    }
   ],
   "source": [
    "x_train.shape"
   ]
  },
  {
   "cell_type": "markdown",
   "metadata": {},
   "source": [
    "### 4. 打造一個函數學習機\n",
    "調整項目：\n",
    "* LSTM改用GRU，並且降低神經元的數量(128降至64)\n",
    "* 實施early stopping"
   ]
  },
  {
   "cell_type": "code",
   "execution_count": 15,
   "metadata": {},
   "outputs": [],
   "source": [
    "model = Sequential() # 打開一個空白的函數學習機"
   ]
  },
  {
   "cell_type": "code",
   "execution_count": 16,
   "metadata": {},
   "outputs": [
    {
     "name": "stdout",
     "output_type": "stream",
     "text": [
      "WARNING:tensorflow:From C:\\Users\\kevin\\Anaconda3\\lib\\site-packages\\tensorflow\\python\\keras\\initializers.py:119: calling RandomUniform.__init__ (from tensorflow.python.ops.init_ops) with dtype is deprecated and will be removed in a future version.\n",
      "Instructions for updating:\n",
      "Call initializer instance with the dtype argument instead of passing it to the constructor\n"
     ]
    }
   ],
   "source": [
    "model.add(Embedding(10000, 128)) # RNN的激發函數不需要特別設定，用預設的就好"
   ]
  },
  {
   "cell_type": "code",
   "execution_count": 17,
   "metadata": {},
   "outputs": [
    {
     "name": "stdout",
     "output_type": "stream",
     "text": [
      "WARNING:tensorflow:From C:\\Users\\kevin\\Anaconda3\\lib\\site-packages\\tensorflow\\python\\ops\\init_ops.py:1251: calling VarianceScaling.__init__ (from tensorflow.python.ops.init_ops) with dtype is deprecated and will be removed in a future version.\n",
      "Instructions for updating:\n",
      "Call initializer instance with the dtype argument instead of passing it to the constructor\n"
     ]
    }
   ],
   "source": [
    "model.add(GRU(64, dropout = 0.2, recurrent_dropout = 0.2))\n",
    "    # dropout: 避免模型「背答案」，每次學的時候該神經層有多少比例的參數不會去學習\n",
    "    # recurrent：記憶過去的訓練輸出\n",
    "    # recurrent_dropout：hidden state的dropout"
   ]
  },
  {
   "cell_type": "code",
   "execution_count": 18,
   "metadata": {},
   "outputs": [],
   "source": [
    "model.add(Dense(1, activation = 'sigmoid')) # 1: 輸出只有正評和負評"
   ]
  },
  {
   "cell_type": "code",
   "execution_count": 19,
   "metadata": {},
   "outputs": [
    {
     "name": "stdout",
     "output_type": "stream",
     "text": [
      "WARNING:tensorflow:From C:\\Users\\kevin\\Anaconda3\\lib\\site-packages\\tensorflow\\python\\ops\\nn_impl.py:180: add_dispatch_support.<locals>.wrapper (from tensorflow.python.ops.array_ops) is deprecated and will be removed in a future version.\n",
      "Instructions for updating:\n",
      "Use tf.where in 2.0, which has the same broadcast rule as np.where\n"
     ]
    }
   ],
   "source": [
    "model.compile(loss = 'binary_crossentropy', optimizer = 'adam', metrics = ['accuracy']) \n",
    "    # adam好處：1.比較快 2.會做momentum(讓他的動量不要做太大的改變，穩穩地走下山)"
   ]
  },
  {
   "cell_type": "code",
   "execution_count": 20,
   "metadata": {},
   "outputs": [
    {
     "name": "stdout",
     "output_type": "stream",
     "text": [
      "Model: \"sequential\"\n",
      "_________________________________________________________________\n",
      "Layer (type)                 Output Shape              Param #   \n",
      "=================================================================\n",
      "embedding (Embedding)        (None, None, 128)         1280000   \n",
      "_________________________________________________________________\n",
      "gru (GRU)                    (None, 64)                37056     \n",
      "_________________________________________________________________\n",
      "dense (Dense)                (None, 1)                 65        \n",
      "=================================================================\n",
      "Total params: 1,317,121\n",
      "Trainable params: 1,317,121\n",
      "Non-trainable params: 0\n",
      "_________________________________________________________________\n"
     ]
    }
   ],
   "source": [
    "model.summary()"
   ]
  },
  {
   "cell_type": "markdown",
   "metadata": {},
   "source": [
    "**實施early stopping，即模型訓練一段時間之後，當準確率不再有顯著的提升就提早結束訓練，這樣不僅能夠節省訓練的時間，也可以防止模型過度擬合。**"
   ]
  },
  {
   "cell_type": "code",
   "execution_count": 21,
   "metadata": {},
   "outputs": [
    {
     "name": "stderr",
     "output_type": "stream",
     "text": [
      "Using TensorFlow backend.\n"
     ]
    }
   ],
   "source": [
    "from keras.callbacks import EarlyStopping\n",
    "early_stopping = EarlyStopping(monitor = 'val_loss', patience = 3, verbose = 0, mode = 'auto') \n",
    "    # patience = 3: 當模型不再有顯著的進步時，還會再多訓練3個epochs才結束訓練"
   ]
  },
  {
   "cell_type": "markdown",
   "metadata": {},
   "source": [
    "### 5. 訓練\n",
    "調整項目：\n",
    "* batch_size 32 → 64\n",
    "* epochs 10 → 20 (有實施early stopping，可以設高一點)"
   ]
  },
  {
   "cell_type": "code",
   "execution_count": 22,
   "metadata": {},
   "outputs": [
    {
     "name": "stdout",
     "output_type": "stream",
     "text": [
      "Train on 25000 samples, validate on 15000 samples\n",
      "Epoch 1/20\n",
      "25000/25000 [==============================] - 88s 4ms/sample - loss: 0.4903 - acc: 0.7592 - val_loss: 0.3954 - val_acc: 0.8214\n",
      "Epoch 2/20\n",
      "25000/25000 [==============================] - 103s 4ms/sample - loss: 0.3480 - acc: 0.8541 - val_loss: 0.3637 - val_acc: 0.8390\n",
      "Epoch 3/20\n",
      "25000/25000 [==============================] - 121s 5ms/sample - loss: 0.2766 - acc: 0.8890 - val_loss: 0.3615 - val_acc: 0.8483\n",
      "Epoch 4/20\n",
      "25000/25000 [==============================] - 134s 5ms/sample - loss: 0.2168 - acc: 0.9135 - val_loss: 0.3880 - val_acc: 0.8393\n",
      "Epoch 5/20\n",
      "25000/25000 [==============================] - 141s 6ms/sample - loss: 0.1746 - acc: 0.9341 - val_loss: 0.4187 - val_acc: 0.8404\n",
      "Epoch 6/20\n",
      "25000/25000 [==============================] - 163s 7ms/sample - loss: 0.1372 - acc: 0.9503 - val_loss: 0.4550 - val_acc: 0.8409\n"
     ]
    }
   ],
   "source": [
    "history = model.fit(x_train, y_train, batch_size = 64, epochs = 20, validation_data = (x_val, y_val), \n",
    "                    callbacks = [early_stopping])"
   ]
  },
  {
   "cell_type": "markdown",
   "metadata": {},
   "source": [
    "### 6. 訓練成果"
   ]
  },
  {
   "cell_type": "markdown",
   "metadata": {},
   "source": [
    "**畫出訓練過程中訓練集和驗證集準確率和loss值的變化情形**"
   ]
  },
  {
   "cell_type": "code",
   "execution_count": 33,
   "metadata": {},
   "outputs": [
    {
     "data": {
      "image/png": "[encoded data removed]",
      "text/plain": [
       "<Figure size 432x288 with 1 Axes>"
      ]
     },
     "metadata": {
      "needs_background": "light"
     },
     "output_type": "display_data"
    },
    {
     "data": {
      "image/png": "[encoded data removed]",
      "text/plain": [
       "<Figure size 432x288 with 1 Axes>"
      ]
     },
     "metadata": {
      "needs_background": "light"
     },
     "output_type": "display_data"
    }
   ],
   "source": [
    "import matplotlib.pyplot as plt\n",
    "\n",
    "# Plot training & validation accuracy values\n",
    "plt.plot(range(1, len(history.history['acc']) + 1), history.history['acc'])\n",
    "plt.plot(range(1, len(history.history['val_acc']) + 1), history.history['val_acc'])\n",
    "plt.title('Model accuracy')\n",
    "plt.ylabel('Accuracy')\n",
    "plt.xlabel('Epoch')\n",
    "plt.legend(['Train', 'Validation'], loc='upper left')\n",
    "plt.show()\n",
    "\n",
    "# Plot training & validation loss values\n",
    "plt.plot(range(1, len(history.history['loss']) + 1), history.history['loss'])\n",
    "plt.plot(range(1, len(history.history['val_loss']) + 1), history.history['val_loss'])\n",
    "plt.title('Model loss')\n",
    "plt.ylabel('Loss')\n",
    "plt.xlabel('Epoch')\n",
    "plt.legend(['Train', 'Validation'], loc='upper left')\n",
    "plt.show()"
   ]
  },
  {
   "cell_type": "markdown",
   "metadata": {},
   "source": [
    "從Model loss這張圖中可以看出在第四個epoch之後，驗證集的loss反而是逐漸上升的，暗指可能發生over-fitting的現象，也許未來將epochs設成3模型會有比較好的預測結果。"
   ]
  },
  {
   "cell_type": "markdown",
   "metadata": {},
   "source": [
    "**查看該模型預測測試集資料的結果**"
   ]
  },
  {
   "cell_type": "code",
   "execution_count": 24,
   "metadata": {},
   "outputs": [
    {
     "name": "stdout",
     "output_type": "stream",
     "text": [
      "10000/10000 [==============================] - 13s 1ms/sample - loss: 0.4285 - acc: 0.8531\n",
      "Test loss: 0.42846572553515433\n",
      "Test accuracy: 0.8531\n"
     ]
    }
   ],
   "source": [
    "score = model.evaluate(x_test, y_test)\n",
    "print('Test loss:', score[0])\n",
    "print('Test accuracy:', score[1])"
   ]
  },
  {
   "cell_type": "markdown",
   "metadata": {},
   "source": [
    "目前我做出來的模型預測測試集的準確率為0.8531。"
   ]
  },
  {
   "cell_type": "markdown",
   "metadata": {},
   "source": [
    "### 7. 儲存模型和模型參數"
   ]
  },
  {
   "cell_type": "code",
   "execution_count": 34,
   "metadata": {},
   "outputs": [],
   "source": [
    "model.save('myRNNmodel.h5')"
   ]
  },
  {
   "cell_type": "code",
   "execution_count": 35,
   "metadata": {},
   "outputs": [],
   "source": [
    "model_json = model.to_json()\n",
    "open('imbd_model_architecture.json', 'w').write(model_json)\n",
    "model.save_weights('imbd_model_weights.h5')"
   ]
  },
  {
   "cell_type": "markdown",
   "metadata": {},
   "source": [
    "### 8. 模型比較(課堂範例 VS 經過自己調整後的模型)"
   ]
  },
  {
   "cell_type": "markdown",
   "metadata": {},
   "source": [
    "**查看課堂範例建的RNN模型預測測試集資料的結果**"
   ]
  },
  {
   "cell_type": "code",
   "execution_count": 39,
   "metadata": {},
   "outputs": [],
   "source": [
    "from tensorflow.keras.models import load_model"
   ]
  },
  {
   "cell_type": "code",
   "execution_count": 40,
   "metadata": {},
   "outputs": [
    {
     "name": "stdout",
     "output_type": "stream",
     "text": [
      "WARNING:tensorflow:From C:\\Users\\kevin\\Anaconda3\\lib\\site-packages\\tensorflow\\python\\ops\\init_ops.py:97: calling GlorotUniform.__init__ (from tensorflow.python.ops.init_ops) with dtype is deprecated and will be removed in a future version.\n",
      "Instructions for updating:\n",
      "Call initializer instance with the dtype argument instead of passing it to the constructor\n",
      "WARNING:tensorflow:From C:\\Users\\kevin\\Anaconda3\\lib\\site-packages\\tensorflow\\python\\ops\\init_ops.py:97: calling Orthogonal.__init__ (from tensorflow.python.ops.init_ops) with dtype is deprecated and will be removed in a future version.\n",
      "Instructions for updating:\n",
      "Call initializer instance with the dtype argument instead of passing it to the constructor\n",
      "WARNING:tensorflow:From C:\\Users\\kevin\\Anaconda3\\lib\\site-packages\\tensorflow\\python\\ops\\init_ops.py:97: calling Zeros.__init__ (from tensorflow.python.ops.init_ops) with dtype is deprecated and will be removed in a future version.\n",
      "Instructions for updating:\n",
      "Call initializer instance with the dtype argument instead of passing it to the constructor\n"
     ]
    }
   ],
   "source": [
    "model_classExample = load_model('myRNNmodel_classExample.h5')"
   ]
  },
  {
   "cell_type": "code",
   "execution_count": 41,
   "metadata": {},
   "outputs": [
    {
     "name": "stdout",
     "output_type": "stream",
     "text": [
      "10000/10000 [==============================] - 22s 2ms/sample - loss: 0.7193 - acc: 0.8543\n",
      "Test loss: 0.7193457586705685\n",
      "Test accuracy: 0.8543\n"
     ]
    }
   ],
   "source": [
    "score_classExample = model_classExample.evaluate(x_test, y_test)\n",
    "print('Test loss:', score_classExample[0])\n",
    "print('Test accuracy:', score_classExample[1])"
   ]
  },
  {
   "cell_type": "markdown",
   "metadata": {},
   "source": [
    "用課堂範例建立的模型預測測試集的準確率為0.8543，和經過自己調整之後的模型比較(0.8531)，原本的模型預測能力還稍微好一點。"
   ]
  }
 ],
 "metadata": {
  "kernelspec": {
   "display_name": "Python 3",
   "language": "python",
   "name": "python3"
  },
  "language_info": {
   "codemirror_mode": {
    "name": "ipython",
    "version": 3
   },
   "file_extension": ".py",
   "mimetype": "text/x-python",
   "name": "python",
   "nbconvert_exporter": "python",
   "pygments_lexer": "ipython3",
   "version": "3.7.4"
  }
 },
 "nbformat": 4,
 "nbformat_minor": 2
}
