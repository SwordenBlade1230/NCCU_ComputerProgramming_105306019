{
 "cells": [
  {
   "cell_type": "markdown",
   "metadata": {},
   "source": [
    "### 主函式"
   ]
  },
  {
   "cell_type": "code",
   "execution_count": 1,
   "metadata": {},
   "outputs": [],
   "source": [
    "import numpy as np\n",
    "import requests\n",
    "import pandas as pd\n",
    "import datetime\n",
    "import time\n",
    "from datetime import datetime, timedelta\n",
    "\n",
    "### 主函式 ###\n",
    "def get_stock_history(stock_no):\n",
    "    date = datetime.today().strftime(\"%Y/%m/%d\") # 取得今天的日期\n",
    "    \n",
    "    url = 'http://www.twse.com.tw/exchangeReport/STOCK_DAY?date=%s&stockNo=%s' % ( date, stock_no) \n",
    "        # 爬取指定股票代碼當月的歷史交易資料\n",
    "    \n",
    "    r = requests.get(url)\n",
    "    data = r.json()\n",
    "    \n",
    "    df = pd.DataFrame(data['data'], columns=data['fields']) # 建立DataFrame\n",
    "    \n",
    "    df = df.replace({',': ''}, regex=True) # 移除數字中的逗號\n",
    "    \n",
    "    # 西元轉民國\n",
    "    for idx, item in enumerate(df['日期']):\n",
    "        year, month, day = df['日期'][idx].split('/')\n",
    "        df['日期'][idx] = str(int(year) + 1911) + '/' + month + '/' + day\n",
    "    \n",
    "    return df, date"
   ]
  },
  {
   "cell_type": "markdown",
   "metadata": {},
   "source": [
    "### 爬取台灣證券交易所特定股票當月的歷史交易資料"
   ]
  },
  {
   "cell_type": "code",
   "execution_count": 2,
   "metadata": {},
   "outputs": [
    {
     "name": "stdout",
     "output_type": "stream",
     "text": [
      "請輸入股票代碼：0050\n"
     ]
    },
    {
     "data": {
      "text/html": [
       "<div>\n",
       "<style scoped>\n",
       "    .dataframe tbody tr th:only-of-type {\n",
       "        vertical-align: middle;\n",
       "    }\n",
       "\n",
       "    .dataframe tbody tr th {\n",
       "        vertical-align: top;\n",
       "    }\n",
       "\n",
       "    .dataframe thead th {\n",
       "        text-align: right;\n",
       "    }\n",
       "</style>\n",
       "<table border=\"1\" class=\"dataframe\">\n",
       "  <thead>\n",
       "    <tr style=\"text-align: right;\">\n",
       "      <th></th>\n",
       "      <th>日期</th>\n",
       "      <th>成交股數</th>\n",
       "      <th>成交金額</th>\n",
       "      <th>開盤價</th>\n",
       "      <th>最高價</th>\n",
       "      <th>最低價</th>\n",
       "      <th>收盤價</th>\n",
       "      <th>漲跌價差</th>\n",
       "      <th>成交筆數</th>\n",
       "    </tr>\n",
       "  </thead>\n",
       "  <tbody>\n",
       "    <tr>\n",
       "      <td>0</td>\n",
       "      <td>2020/06/01</td>\n",
       "      <td>8365321</td>\n",
       "      <td>709979535</td>\n",
       "      <td>84.45</td>\n",
       "      <td>85.15</td>\n",
       "      <td>84.40</td>\n",
       "      <td>84.90</td>\n",
       "      <td>+0.45</td>\n",
       "      <td>4221</td>\n",
       "    </tr>\n",
       "    <tr>\n",
       "      <td>1</td>\n",
       "      <td>2020/06/02</td>\n",
       "      <td>11947060</td>\n",
       "      <td>1019866379</td>\n",
       "      <td>85.00</td>\n",
       "      <td>85.50</td>\n",
       "      <td>85.00</td>\n",
       "      <td>85.30</td>\n",
       "      <td>+0.40</td>\n",
       "      <td>4546</td>\n",
       "    </tr>\n",
       "    <tr>\n",
       "      <td>2</td>\n",
       "      <td>2020/06/03</td>\n",
       "      <td>18117244</td>\n",
       "      <td>1567235805</td>\n",
       "      <td>86.15</td>\n",
       "      <td>86.90</td>\n",
       "      <td>86.10</td>\n",
       "      <td>86.80</td>\n",
       "      <td>+1.50</td>\n",
       "      <td>7251</td>\n",
       "    </tr>\n",
       "    <tr>\n",
       "      <td>3</td>\n",
       "      <td>2020/06/04</td>\n",
       "      <td>15036553</td>\n",
       "      <td>1315498861</td>\n",
       "      <td>87.50</td>\n",
       "      <td>87.75</td>\n",
       "      <td>87.15</td>\n",
       "      <td>87.60</td>\n",
       "      <td>+0.80</td>\n",
       "      <td>6182</td>\n",
       "    </tr>\n",
       "    <tr>\n",
       "      <td>4</td>\n",
       "      <td>2020/06/05</td>\n",
       "      <td>9916582</td>\n",
       "      <td>873460722</td>\n",
       "      <td>87.70</td>\n",
       "      <td>88.35</td>\n",
       "      <td>87.70</td>\n",
       "      <td>88.35</td>\n",
       "      <td>+0.75</td>\n",
       "      <td>5501</td>\n",
       "    </tr>\n",
       "    <tr>\n",
       "      <td>5</td>\n",
       "      <td>2020/06/08</td>\n",
       "      <td>15549542</td>\n",
       "      <td>1388746538</td>\n",
       "      <td>88.90</td>\n",
       "      <td>89.80</td>\n",
       "      <td>88.80</td>\n",
       "      <td>89.50</td>\n",
       "      <td>+1.15</td>\n",
       "      <td>7617</td>\n",
       "    </tr>\n",
       "  </tbody>\n",
       "</table>\n",
       "</div>"
      ],
      "text/plain": [
       "           日期      成交股數        成交金額    開盤價    最高價    最低價    收盤價   漲跌價差  成交筆數\n",
       "0  2020/06/01   8365321   709979535  84.45  85.15  84.40  84.90  +0.45  4221\n",
       "1  2020/06/02  11947060  1019866379  85.00  85.50  85.00  85.30  +0.40  4546\n",
       "2  2020/06/03  18117244  1567235805  86.15  86.90  86.10  86.80  +1.50  7251\n",
       "3  2020/06/04  15036553  1315498861  87.50  87.75  87.15  87.60  +0.80  6182\n",
       "4  2020/06/05   9916582   873460722  87.70  88.35  87.70  88.35  +0.75  5501\n",
       "5  2020/06/08  15549542  1388746538  88.90  89.80  88.80  89.50  +1.15  7617"
      ]
     },
     "execution_count": 2,
     "metadata": {},
     "output_type": "execute_result"
    }
   ],
   "source": [
    "stock_code = input(\"請輸入股票代碼：\")\n",
    "\n",
    "result, date = get_stock_history(stock_code)\n",
    "\n",
    "result"
   ]
  },
  {
   "cell_type": "markdown",
   "metadata": {},
   "source": [
    "### 將爬蟲結果儲存成csv檔"
   ]
  },
  {
   "cell_type": "code",
   "execution_count": 3,
   "metadata": {},
   "outputs": [],
   "source": [
    "year, month, day = date.split('/')\n",
    "month = str(int(month))\n",
    "day = str(int(day))\n",
    "result.to_csv(f'twse_{stock_code}_{year}年{month}月1日至{day}日歷史交易資料.csv', encoding='utf_8_sig', index=False)"
   ]
  }
 ],
 "metadata": {
  "kernelspec": {
   "display_name": "Python 3",
   "language": "python",
   "name": "python3"
  },
  "language_info": {
   "codemirror_mode": {
    "name": "ipython",
    "version": 3
   },
   "file_extension": ".py",
   "mimetype": "text/x-python",
   "name": "python",
   "nbconvert_exporter": "python",
   "pygments_lexer": "ipython3",
   "version": "3.7.4"
  }
 },
 "nbformat": 4,
 "nbformat_minor": 2
}
