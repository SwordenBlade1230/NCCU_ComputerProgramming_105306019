{
 "cells": [
  {
   "cell_type": "code",
   "execution_count": 1,
   "metadata": {},
   "outputs": [],
   "source": [
    "# 平方計算器\n",
    "import tkinter as tk\n",
    "import tkinter.font as tkFont\n",
    "import math\n",
    "\n",
    "def RepresentsInt(s):\n",
    "    try: \n",
    "        int(s)\n",
    "        return True\n",
    "    except ValueError:\n",
    "        return False\n",
    "\n",
    "class Calculator(tk.Frame):\n",
    "\n",
    "    def __init__(self):\n",
    "        tk.Frame.__init__(self) \n",
    "        self.grid()\n",
    "        self.createWidgets()\n",
    "\n",
    "    def createWidgets(self):\n",
    "        font1 = tkFont.Font(size = 16, family = \"Courier New\")\n",
    "        self.textbox = tk.Text(self, height = 1, width = 25, font = font1) \n",
    "        self.textbox.insert(\"1.0\", 0)\n",
    "        self.btnSqure = tk.Button(\n",
    "            self, text = \"square\", height = 1, width = 10, font = font1, command = self.clickBtnSquare) \n",
    "        self.textbox.grid(row = 0, column = 0)\n",
    "        self.btnSqure.grid(row = 1, column = 0)\n",
    "    \n",
    "    def clickBtnSquare(self):\n",
    "        try:\n",
    "            value = self.textbox.get(\"1.0\", tk.END)\n",
    "            if RepresentsInt(value):\n",
    "                square_value = str(int(math.pow(float(value), 2)))\n",
    "            else:\n",
    "                square_value = str('%g'%((math.pow(float(value), 2))))\n",
    "            self.textbox.delete(\"1.0\", tk.END)\n",
    "            self.textbox.insert(\"1.0\", square_value)\n",
    "        except:\n",
    "            print('請輸入數字！')\n",
    "\n",
    "cal = Calculator()\n",
    "cal.master.title(\"Square Calculator\")\n",
    "cal.mainloop()"
   ]
  }
 ],
 "metadata": {
  "kernelspec": {
   "display_name": "Python 3",
   "language": "python",
   "name": "python3"
  },
  "language_info": {
   "codemirror_mode": {
    "name": "ipython",
    "version": 3
   },
   "file_extension": ".py",
   "mimetype": "text/x-python",
   "name": "python",
   "nbconvert_exporter": "python",
   "pygments_lexer": "ipython3",
   "version": "3.7.4"
  }
 },
 "nbformat": 4,
 "nbformat_minor": 2
}
