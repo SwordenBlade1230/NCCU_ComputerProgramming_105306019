{
 "cells": [
  {
   "cell_type": "code",
   "execution_count": 1,
   "metadata": {
    "scrolled": false
   },
   "outputs": [],
   "source": [
    "from os import walk\n",
    "from os.path import join\n",
    "\n",
    "mypath = \"D:\\\\ipython\\\\NCCU_ComputerProgramming_105306019\\\\homework_anyTopic_4\" # 資料夾路徑"
   ]
  },
  {
   "cell_type": "markdown",
   "metadata": {},
   "source": [
    "### 列出資料夾目錄中所有檔案的名稱"
   ]
  },
  {
   "cell_type": "code",
   "execution_count": 2,
   "metadata": {},
   "outputs": [
    {
     "name": "stdout",
     "output_type": "stream",
     "text": [
      "example_image_for_face_recognition.jpg\n",
      "example_image_for_face_recognition_face1.jpg\n",
      "haarcascade_frontalface_default.xml\n",
      "PTT棒球版標題文字雲.ipynb\n",
      "spambase.data\n",
      "spambase.names\n",
      "stopwords.txt\n",
      "twse_0050_2020年6月1日至8日歷史交易資料.csv\n",
      "列出資料夾目錄中所有檔案的名稱及絕對路徑.ipynb\n",
      "垃圾郵件分類模型.ipynb\n",
      "從照片中擷取人臉並輸出成新的照片.ipynb\n",
      "新冠肺炎世界概況初步分析(資料視覺化、用簡單線性迴歸模型預測未來確診人數).ipynb\n",
      "爬取台灣證券交易所特定股票當月的歷史交易資料.ipynb\n",
      "用tkinter實作平方計算器.ipynb\n",
      "列出資料夾目錄中所有檔案的名稱及絕對路徑-checkpoint.ipynb\n"
     ]
    }
   ],
   "source": [
    "for root, dirs, files in walk(mypath):\n",
    "    for f in files:\n",
    "        print(f)"
   ]
  },
  {
   "cell_type": "markdown",
   "metadata": {},
   "source": [
    "### 列出資料夾目錄中的所有檔案的絕對路徑"
   ]
  },
  {
   "cell_type": "code",
   "execution_count": 3,
   "metadata": {},
   "outputs": [
    {
     "name": "stdout",
     "output_type": "stream",
     "text": [
      "D:\\ipython\\NCCU_ComputerProgramming_105306019\\homework_anyTopic_4\\example_image_for_face_recognition.jpg\n",
      "D:\\ipython\\NCCU_ComputerProgramming_105306019\\homework_anyTopic_4\\example_image_for_face_recognition_face1.jpg\n",
      "D:\\ipython\\NCCU_ComputerProgramming_105306019\\homework_anyTopic_4\\haarcascade_frontalface_default.xml\n",
      "D:\\ipython\\NCCU_ComputerProgramming_105306019\\homework_anyTopic_4\\PTT棒球版標題文字雲.ipynb\n",
      "D:\\ipython\\NCCU_ComputerProgramming_105306019\\homework_anyTopic_4\\spambase.data\n",
      "D:\\ipython\\NCCU_ComputerProgramming_105306019\\homework_anyTopic_4\\spambase.names\n",
      "D:\\ipython\\NCCU_ComputerProgramming_105306019\\homework_anyTopic_4\\stopwords.txt\n",
      "D:\\ipython\\NCCU_ComputerProgramming_105306019\\homework_anyTopic_4\\twse_0050_2020年6月1日至8日歷史交易資料.csv\n",
      "D:\\ipython\\NCCU_ComputerProgramming_105306019\\homework_anyTopic_4\\列出資料夾目錄中所有檔案的名稱及絕對路徑.ipynb\n",
      "D:\\ipython\\NCCU_ComputerProgramming_105306019\\homework_anyTopic_4\\垃圾郵件分類模型.ipynb\n",
      "D:\\ipython\\NCCU_ComputerProgramming_105306019\\homework_anyTopic_4\\從照片中擷取人臉並輸出成新的照片.ipynb\n",
      "D:\\ipython\\NCCU_ComputerProgramming_105306019\\homework_anyTopic_4\\新冠肺炎世界概況初步分析(資料視覺化、用簡單線性迴歸模型預測未來確診人數).ipynb\n",
      "D:\\ipython\\NCCU_ComputerProgramming_105306019\\homework_anyTopic_4\\爬取台灣證券交易所特定股票當月的歷史交易資料.ipynb\n",
      "D:\\ipython\\NCCU_ComputerProgramming_105306019\\homework_anyTopic_4\\用tkinter實作平方計算器.ipynb\n",
      "D:\\ipython\\NCCU_ComputerProgramming_105306019\\homework_anyTopic_4\\.ipynb_checkpoints\\列出資料夾目錄中所有檔案的名稱及絕對路徑-checkpoint.ipynb\n"
     ]
    }
   ],
   "source": [
    "for root, dirs, files in walk(mypath):\n",
    "    for f in files:\n",
    "        fullpath = join(root, f)\n",
    "        print(fullpath)"
   ]
  }
 ],
 "metadata": {
  "kernelspec": {
   "display_name": "Python 3",
   "language": "python",
   "name": "python3"
  },
  "language_info": {
   "codemirror_mode": {
    "name": "ipython",
    "version": 3
   },
   "file_extension": ".py",
   "mimetype": "text/x-python",
   "name": "python",
   "nbconvert_exporter": "python",
   "pygments_lexer": "ipython3",
   "version": "3.7.4"
  }
 },
 "nbformat": 4,
 "nbformat_minor": 2
}
