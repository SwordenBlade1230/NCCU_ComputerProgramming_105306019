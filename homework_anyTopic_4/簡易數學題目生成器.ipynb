{
 "cells": [
  {
   "cell_type": "code",
   "execution_count": 1,
   "metadata": {},
   "outputs": [
    {
     "name": "stdout",
     "output_type": "stream",
     "text": [
      "5 + 6 = ? 你的答案：11\n",
      "恭喜你，答對了！\n",
      "6 - 2 = ? 你的答案：4\n",
      "恭喜你，答對了！\n",
      "4 + 4 = ? 你的答案：8\n",
      "恭喜你，答對了！\n",
      "5 - 9 = ? 你的答案：4\n",
      "很可惜，答錯了！\n",
      "4 + 3 = ? 你的答案：太難了\n",
      "請輸入數字！\n",
      "9 - 1 = ? 你的答案：結束答題\n"
     ]
    }
   ],
   "source": [
    "from random import randint\n",
    "\n",
    "while True:\n",
    "    num1 = randint(1,10)\n",
    "    num2 = randint(1,10)\n",
    "\n",
    "    operator = randint(1,2)\n",
    "\n",
    "    try:\n",
    "        if operator == 1:\n",
    "            ans = num1 + num2\n",
    "            yourans = input(f'{num1} + {num2} = ? 你的答案：')\n",
    "        else:\n",
    "            ans = num1 - num2\n",
    "            yourans = input(f'{num1} - {num2} = ? 你的答案：')\n",
    "            \n",
    "        if yourans == '結束答題':\n",
    "            break\n",
    "        else:\n",
    "            yourans = int(yourans) \n",
    "            \n",
    "        if yourans == ans:\n",
    "            print('恭喜你，答對了！')\n",
    "        else:\n",
    "            print('很可惜，答錯了！')\n",
    "            \n",
    "    except ValueError:\n",
    "        print('請輸入數字！')"
   ]
  }
 ],
 "metadata": {
  "kernelspec": {
   "display_name": "Python 3",
   "language": "python",
   "name": "python3"
  },
  "language_info": {
   "codemirror_mode": {
    "name": "ipython",
    "version": 3
   },
   "file_extension": ".py",
   "mimetype": "text/x-python",
   "name": "python",
   "nbconvert_exporter": "python",
   "pygments_lexer": "ipython3",
   "version": "3.7.4"
  }
 },
 "nbformat": 4,
 "nbformat_minor": 2
}
