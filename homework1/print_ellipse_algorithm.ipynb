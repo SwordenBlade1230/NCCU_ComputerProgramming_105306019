{
 "cells": [
  {
   "cell_type": "code",
   "execution_count": 6,
   "metadata": {
    "scrolled": false
   },
   "outputs": [
    {
     "name": "stdout",
     "output_type": "stream",
     "text": [
      "Please enter the size of the circle: 10\n",
      "          *          \n",
      "      *********      \n",
      "    *************    \n",
      "   ***************   \n",
      "  *****************  \n",
      "  *****************  \n",
      " ******************* \n",
      " ******************* \n",
      " ******************* \n",
      " ******************* \n",
      "*********************\n",
      " ******************* \n",
      " ******************* \n",
      " ******************* \n",
      " ******************* \n",
      "  *****************  \n",
      "  *****************  \n",
      "   ***************   \n",
      "    *************    \n",
      "      *********      \n",
      "          *          \n"
     ]
    }
   ],
   "source": [
    "r = int(input('Please enter the size of the circle: '))\n",
    "plane = [[0 for i in range(2*r+1)] for j in range(2*r+1)]\n",
    "for x in range(0, 2*r+1):\n",
    "    for y in range(0, 2*r+1):\n",
    "        if ((x - r)**2 + (y - r)**2 <= r**2):\n",
    "            plane[x][y] = '*'\n",
    "        else:\n",
    "            plane[x][y] = ' '\n",
    "\n",
    "for y in range(0, 2*r+1):\n",
    "    print(''.join(plane[y]))"
   ]
  },
  {
   "cell_type": "code",
   "execution_count": null,
   "metadata": {},
   "outputs": [],
   "source": []
  }
 ],
 "metadata": {
  "kernelspec": {
   "display_name": "Python 3",
   "language": "python",
   "name": "python3"
  },
  "language_info": {
   "codemirror_mode": {
    "name": "ipython",
    "version": 3
   },
   "file_extension": ".py",
   "mimetype": "text/x-python",
   "name": "python",
   "nbconvert_exporter": "python",
   "pygments_lexer": "ipython3",
   "version": "3.7.3"
  }
 },
 "nbformat": 4,
 "nbformat_minor": 2
}
